{
 "cells": [
  {
   "cell_type": "markdown",
   "source": [
    "First strategies"
   ],
   "metadata": {
    "collapsed": false
   }
  },
  {
   "cell_type": "code",
   "execution_count": 21,
   "metadata": {
    "collapsed": true
   },
   "outputs": [
    {
     "data": {
      "text/plain": "<module 'utils.preprocessing' from 'C:\\\\Users\\\\artem\\\\.Computer Science\\\\CMF\\\\Projects\\\\Credit_Derivatives\\\\utils\\\\preprocessing.py'>"
     },
     "execution_count": 21,
     "metadata": {},
     "output_type": "execute_result"
    }
   ],
   "source": [
    "from importlib import reload\n",
    "import pandas as pd\n",
    "import matplotlib.pyplot as plt\n",
    "\n",
    "import utils.preprocessing\n",
    "reload(utils.preprocessing)"
   ]
  },
  {
   "cell_type": "code",
   "execution_count": 22,
   "outputs": [
    {
     "data": {
      "text/plain": "      Itraxx Main Generic                                       \\\n                     Date Last Price Last Price.1 Last Price.2   \n0              2022-09-22    125.509          NaN          NaN   \n1              2022-09-21    122.361          NaN          NaN   \n2              2022-09-20    120.426          NaN          NaN   \n3              2022-09-16    112.323          NaN          NaN   \n4              2022-09-15    108.886          NaN          NaN   \n...                   ...        ...          ...          ...   \n11827                 NaT        NaN          NaN          NaN   \n11828                 NaT        NaN          NaN          NaN   \n11829                 NaT        NaN          NaN          NaN   \n11830                 NaT        NaN          NaN          NaN   \n11831                 NaT        NaN          NaN          NaN   \n\n      Itraxx Xover Generic                                       \\\n                      Date Last Price Last Price.1 Last Price.2   \n0               2022-09-22    619.110          NaN          NaN   \n1               2022-09-21    601.364          NaN          NaN   \n2               2022-09-20    596.787          NaN          NaN   \n3               2022-09-16    552.824          NaN          NaN   \n4               2022-09-15    538.099          NaN          NaN   \n...                    ...        ...          ...          ...   \n11827                  NaT        NaN          NaN          NaN   \n11828                  NaT        NaN          NaN          NaN   \n11829                  NaT        NaN          NaN          NaN   \n11830                  NaT        NaN          NaN          NaN   \n11831                  NaT        NaN          NaN          NaN   \n\n      CDX IG Generic             ... ER CDX IG Short                     SPX  \\\n                Date Last Price  ...    Last Price.1 Last Price.2       Date   \n0         2022-09-22    101.883  ...             NaN          NaN 2022-09-22   \n1         2022-09-21    100.584  ...             NaN          NaN 2022-09-21   \n2         2022-09-20     98.471  ...             NaN          NaN 2022-09-20   \n3         2022-09-19     86.798  ...             NaN          NaN 2022-09-19   \n4         2022-09-16     89.170  ...             NaN          NaN 2022-09-16   \n...              ...        ...  ...             ...          ...        ...   \n11827            NaT        NaN  ...             NaN          NaN 1975-11-20   \n11828            NaT        NaN  ...             NaN          NaN 1975-11-19   \n11829            NaT        NaN  ...             NaN          NaN 1975-11-18   \n11830            NaT        NaN  ...             NaN          NaN 1975-11-17   \n11831            NaT        NaN  ...             NaN          NaN 1975-11-14   \n\n                                                       SX5E             \\\n      Last Price        Volume Volume.1 Volume.2       Date Last Price   \n0        3778.47  0.000000e+00      NaN      NaN 2022-09-22  3427.1399   \n1        3789.93  6.507671e+08      NaN      NaN 2022-09-21  3491.8701   \n2        3855.93  6.069292e+08      NaN      NaN 2022-09-20  3467.0901   \n3        3899.89  6.094226e+08      NaN      NaN 2022-09-19  3499.4900   \n4        3873.33  2.094243e+09      NaN      NaN 2022-09-16  3500.4099   \n...          ...           ...      ...      ...        ...        ...   \n11827      89.64           NaN      NaN      NaN        NaT        NaN   \n11828      89.98           NaN      NaN      NaN        NaT        NaN   \n11829      91.00           NaN      NaN      NaN        NaT        NaN   \n11830      91.46           NaN      NaN      NaN        NaT        NaN   \n11831      90.97           NaN      NaN      NaN        NaT        NaN   \n\n                    \n            Volume  \n0              NaN  \n1      282749440.0  \n2      355137088.0  \n3      245934352.0  \n4      683948800.0  \n...            ...  \n11827          NaN  \n11828          NaN  \n11829          NaN  \n11830          NaN  \n11831          NaN  \n\n[11832 rows x 44 columns]",
      "text/html": "<div>\n<style scoped>\n    .dataframe tbody tr th:only-of-type {\n        vertical-align: middle;\n    }\n\n    .dataframe tbody tr th {\n        vertical-align: top;\n    }\n\n    .dataframe thead tr th {\n        text-align: left;\n    }\n</style>\n<table border=\"1\" class=\"dataframe\">\n  <thead>\n    <tr>\n      <th></th>\n      <th colspan=\"4\" halign=\"left\">Itraxx Main Generic</th>\n      <th colspan=\"4\" halign=\"left\">Itraxx Xover Generic</th>\n      <th colspan=\"2\" halign=\"left\">CDX IG Generic</th>\n      <th>...</th>\n      <th colspan=\"2\" halign=\"left\">ER CDX IG Short</th>\n      <th colspan=\"5\" halign=\"left\">SPX</th>\n      <th colspan=\"3\" halign=\"left\">SX5E</th>\n    </tr>\n    <tr>\n      <th></th>\n      <th>Date</th>\n      <th>Last Price</th>\n      <th>Last Price.1</th>\n      <th>Last Price.2</th>\n      <th>Date</th>\n      <th>Last Price</th>\n      <th>Last Price.1</th>\n      <th>Last Price.2</th>\n      <th>Date</th>\n      <th>Last Price</th>\n      <th>...</th>\n      <th>Last Price.1</th>\n      <th>Last Price.2</th>\n      <th>Date</th>\n      <th>Last Price</th>\n      <th>Volume</th>\n      <th>Volume.1</th>\n      <th>Volume.2</th>\n      <th>Date</th>\n      <th>Last Price</th>\n      <th>Volume</th>\n    </tr>\n  </thead>\n  <tbody>\n    <tr>\n      <th>0</th>\n      <td>2022-09-22</td>\n      <td>125.509</td>\n      <td>NaN</td>\n      <td>NaN</td>\n      <td>2022-09-22</td>\n      <td>619.110</td>\n      <td>NaN</td>\n      <td>NaN</td>\n      <td>2022-09-22</td>\n      <td>101.883</td>\n      <td>...</td>\n      <td>NaN</td>\n      <td>NaN</td>\n      <td>2022-09-22</td>\n      <td>3778.47</td>\n      <td>0.000000e+00</td>\n      <td>NaN</td>\n      <td>NaN</td>\n      <td>2022-09-22</td>\n      <td>3427.1399</td>\n      <td>NaN</td>\n    </tr>\n    <tr>\n      <th>1</th>\n      <td>2022-09-21</td>\n      <td>122.361</td>\n      <td>NaN</td>\n      <td>NaN</td>\n      <td>2022-09-21</td>\n      <td>601.364</td>\n      <td>NaN</td>\n      <td>NaN</td>\n      <td>2022-09-21</td>\n      <td>100.584</td>\n      <td>...</td>\n      <td>NaN</td>\n      <td>NaN</td>\n      <td>2022-09-21</td>\n      <td>3789.93</td>\n      <td>6.507671e+08</td>\n      <td>NaN</td>\n      <td>NaN</td>\n      <td>2022-09-21</td>\n      <td>3491.8701</td>\n      <td>282749440.0</td>\n    </tr>\n    <tr>\n      <th>2</th>\n      <td>2022-09-20</td>\n      <td>120.426</td>\n      <td>NaN</td>\n      <td>NaN</td>\n      <td>2022-09-20</td>\n      <td>596.787</td>\n      <td>NaN</td>\n      <td>NaN</td>\n      <td>2022-09-20</td>\n      <td>98.471</td>\n      <td>...</td>\n      <td>NaN</td>\n      <td>NaN</td>\n      <td>2022-09-20</td>\n      <td>3855.93</td>\n      <td>6.069292e+08</td>\n      <td>NaN</td>\n      <td>NaN</td>\n      <td>2022-09-20</td>\n      <td>3467.0901</td>\n      <td>355137088.0</td>\n    </tr>\n    <tr>\n      <th>3</th>\n      <td>2022-09-16</td>\n      <td>112.323</td>\n      <td>NaN</td>\n      <td>NaN</td>\n      <td>2022-09-16</td>\n      <td>552.824</td>\n      <td>NaN</td>\n      <td>NaN</td>\n      <td>2022-09-19</td>\n      <td>86.798</td>\n      <td>...</td>\n      <td>NaN</td>\n      <td>NaN</td>\n      <td>2022-09-19</td>\n      <td>3899.89</td>\n      <td>6.094226e+08</td>\n      <td>NaN</td>\n      <td>NaN</td>\n      <td>2022-09-19</td>\n      <td>3499.4900</td>\n      <td>245934352.0</td>\n    </tr>\n    <tr>\n      <th>4</th>\n      <td>2022-09-15</td>\n      <td>108.886</td>\n      <td>NaN</td>\n      <td>NaN</td>\n      <td>2022-09-15</td>\n      <td>538.099</td>\n      <td>NaN</td>\n      <td>NaN</td>\n      <td>2022-09-16</td>\n      <td>89.170</td>\n      <td>...</td>\n      <td>NaN</td>\n      <td>NaN</td>\n      <td>2022-09-16</td>\n      <td>3873.33</td>\n      <td>2.094243e+09</td>\n      <td>NaN</td>\n      <td>NaN</td>\n      <td>2022-09-16</td>\n      <td>3500.4099</td>\n      <td>683948800.0</td>\n    </tr>\n    <tr>\n      <th>...</th>\n      <td>...</td>\n      <td>...</td>\n      <td>...</td>\n      <td>...</td>\n      <td>...</td>\n      <td>...</td>\n      <td>...</td>\n      <td>...</td>\n      <td>...</td>\n      <td>...</td>\n      <td>...</td>\n      <td>...</td>\n      <td>...</td>\n      <td>...</td>\n      <td>...</td>\n      <td>...</td>\n      <td>...</td>\n      <td>...</td>\n      <td>...</td>\n      <td>...</td>\n      <td>...</td>\n    </tr>\n    <tr>\n      <th>11827</th>\n      <td>NaT</td>\n      <td>NaN</td>\n      <td>NaN</td>\n      <td>NaN</td>\n      <td>NaT</td>\n      <td>NaN</td>\n      <td>NaN</td>\n      <td>NaN</td>\n      <td>NaT</td>\n      <td>NaN</td>\n      <td>...</td>\n      <td>NaN</td>\n      <td>NaN</td>\n      <td>1975-11-20</td>\n      <td>89.64</td>\n      <td>NaN</td>\n      <td>NaN</td>\n      <td>NaN</td>\n      <td>NaT</td>\n      <td>NaN</td>\n      <td>NaN</td>\n    </tr>\n    <tr>\n      <th>11828</th>\n      <td>NaT</td>\n      <td>NaN</td>\n      <td>NaN</td>\n      <td>NaN</td>\n      <td>NaT</td>\n      <td>NaN</td>\n      <td>NaN</td>\n      <td>NaN</td>\n      <td>NaT</td>\n      <td>NaN</td>\n      <td>...</td>\n      <td>NaN</td>\n      <td>NaN</td>\n      <td>1975-11-19</td>\n      <td>89.98</td>\n      <td>NaN</td>\n      <td>NaN</td>\n      <td>NaN</td>\n      <td>NaT</td>\n      <td>NaN</td>\n      <td>NaN</td>\n    </tr>\n    <tr>\n      <th>11829</th>\n      <td>NaT</td>\n      <td>NaN</td>\n      <td>NaN</td>\n      <td>NaN</td>\n      <td>NaT</td>\n      <td>NaN</td>\n      <td>NaN</td>\n      <td>NaN</td>\n      <td>NaT</td>\n      <td>NaN</td>\n      <td>...</td>\n      <td>NaN</td>\n      <td>NaN</td>\n      <td>1975-11-18</td>\n      <td>91.00</td>\n      <td>NaN</td>\n      <td>NaN</td>\n      <td>NaN</td>\n      <td>NaT</td>\n      <td>NaN</td>\n      <td>NaN</td>\n    </tr>\n    <tr>\n      <th>11830</th>\n      <td>NaT</td>\n      <td>NaN</td>\n      <td>NaN</td>\n      <td>NaN</td>\n      <td>NaT</td>\n      <td>NaN</td>\n      <td>NaN</td>\n      <td>NaN</td>\n      <td>NaT</td>\n      <td>NaN</td>\n      <td>...</td>\n      <td>NaN</td>\n      <td>NaN</td>\n      <td>1975-11-17</td>\n      <td>91.46</td>\n      <td>NaN</td>\n      <td>NaN</td>\n      <td>NaN</td>\n      <td>NaT</td>\n      <td>NaN</td>\n      <td>NaN</td>\n    </tr>\n    <tr>\n      <th>11831</th>\n      <td>NaT</td>\n      <td>NaN</td>\n      <td>NaN</td>\n      <td>NaN</td>\n      <td>NaT</td>\n      <td>NaN</td>\n      <td>NaN</td>\n      <td>NaN</td>\n      <td>NaT</td>\n      <td>NaN</td>\n      <td>...</td>\n      <td>NaN</td>\n      <td>NaN</td>\n      <td>1975-11-14</td>\n      <td>90.97</td>\n      <td>NaN</td>\n      <td>NaN</td>\n      <td>NaN</td>\n      <td>NaT</td>\n      <td>NaN</td>\n      <td>NaN</td>\n    </tr>\n  </tbody>\n</table>\n<p>11832 rows × 44 columns</p>\n</div>"
     },
     "execution_count": 22,
     "metadata": {},
     "output_type": "execute_result"
    }
   ],
   "source": [
    "df = pd.read_excel('data/data_22.09.22__imm_.xlsx', header=[0, 1])\n",
    "df"
   ],
   "metadata": {
    "collapsed": false
   }
  },
  {
   "cell_type": "code",
   "execution_count": 23,
   "outputs": [],
   "source": [
    "df = df.dropna(axis=1, how='all')"
   ],
   "metadata": {
    "collapsed": false
   }
  },
  {
   "cell_type": "code",
   "execution_count": 24,
   "outputs": [
    {
     "data": {
      "text/plain": "            Generic Price  ER Long Price  ER Short Price\nDate                                                    \n2022-09-22        125.509       113.3897         82.9305\n2022-09-21        122.361       113.5834         82.8257\n2022-09-20        120.426       113.6542         82.8096\n2022-09-16        112.323       113.7744         82.7576\n2022-09-15        108.886       113.9900         82.6014\n...                   ...            ...             ...\n2011-10-18        179.500        97.1315        100.5361\n2011-10-17        175.875        97.3066        100.3556\n2011-10-14        173.250        97.3884        100.2715\n2011-10-13        179.159        97.1210        100.5486\n2011-10-12        172.542        97.4034        100.2581\n\n[2748 rows x 3 columns]",
      "text/html": "<div>\n<style scoped>\n    .dataframe tbody tr th:only-of-type {\n        vertical-align: middle;\n    }\n\n    .dataframe tbody tr th {\n        vertical-align: top;\n    }\n\n    .dataframe thead th {\n        text-align: right;\n    }\n</style>\n<table border=\"1\" class=\"dataframe\">\n  <thead>\n    <tr style=\"text-align: right;\">\n      <th></th>\n      <th>Generic Price</th>\n      <th>ER Long Price</th>\n      <th>ER Short Price</th>\n    </tr>\n    <tr>\n      <th>Date</th>\n      <th></th>\n      <th></th>\n      <th></th>\n    </tr>\n  </thead>\n  <tbody>\n    <tr>\n      <th>2022-09-22</th>\n      <td>125.509</td>\n      <td>113.3897</td>\n      <td>82.9305</td>\n    </tr>\n    <tr>\n      <th>2022-09-21</th>\n      <td>122.361</td>\n      <td>113.5834</td>\n      <td>82.8257</td>\n    </tr>\n    <tr>\n      <th>2022-09-20</th>\n      <td>120.426</td>\n      <td>113.6542</td>\n      <td>82.8096</td>\n    </tr>\n    <tr>\n      <th>2022-09-16</th>\n      <td>112.323</td>\n      <td>113.7744</td>\n      <td>82.7576</td>\n    </tr>\n    <tr>\n      <th>2022-09-15</th>\n      <td>108.886</td>\n      <td>113.9900</td>\n      <td>82.6014</td>\n    </tr>\n    <tr>\n      <th>...</th>\n      <td>...</td>\n      <td>...</td>\n      <td>...</td>\n    </tr>\n    <tr>\n      <th>2011-10-18</th>\n      <td>179.500</td>\n      <td>97.1315</td>\n      <td>100.5361</td>\n    </tr>\n    <tr>\n      <th>2011-10-17</th>\n      <td>175.875</td>\n      <td>97.3066</td>\n      <td>100.3556</td>\n    </tr>\n    <tr>\n      <th>2011-10-14</th>\n      <td>173.250</td>\n      <td>97.3884</td>\n      <td>100.2715</td>\n    </tr>\n    <tr>\n      <th>2011-10-13</th>\n      <td>179.159</td>\n      <td>97.1210</td>\n      <td>100.5486</td>\n    </tr>\n    <tr>\n      <th>2011-10-12</th>\n      <td>172.542</td>\n      <td>97.4034</td>\n      <td>100.2581</td>\n    </tr>\n  </tbody>\n</table>\n<p>2748 rows × 3 columns</p>\n</div>"
     },
     "execution_count": 24,
     "metadata": {},
     "output_type": "execute_result"
    }
   ],
   "source": [
    "ItraxxMain = utils.preprocessing.get_ItraxxMain(df)\n",
    "ItraxxMain"
   ],
   "metadata": {
    "collapsed": false
   }
  },
  {
   "cell_type": "code",
   "execution_count": 25,
   "outputs": [
    {
     "data": {
      "text/plain": "            Generic Price  ER Long Price  ER Short Price\nDate                                                    \n2022-09-22        619.110       196.4054         40.1388\n2022-09-21        601.364       197.6984         39.9124\n2022-09-20        596.787       197.7231         39.9416\n2022-09-16        552.824       198.5412         39.8116\n2022-09-15        538.099       199.9603         39.5316\n...                   ...            ...             ...\n2011-09-15        716.500       106.4495         86.2419\n2011-09-14        744.166       105.5747         86.9643\n2011-09-13        771.167       104.5590         87.8196\n2011-09-12        800.750       103.6299         88.6162\n2011-09-09        779.500       104.9709         87.5015\n\n[2755 rows x 3 columns]",
      "text/html": "<div>\n<style scoped>\n    .dataframe tbody tr th:only-of-type {\n        vertical-align: middle;\n    }\n\n    .dataframe tbody tr th {\n        vertical-align: top;\n    }\n\n    .dataframe thead th {\n        text-align: right;\n    }\n</style>\n<table border=\"1\" class=\"dataframe\">\n  <thead>\n    <tr style=\"text-align: right;\">\n      <th></th>\n      <th>Generic Price</th>\n      <th>ER Long Price</th>\n      <th>ER Short Price</th>\n    </tr>\n    <tr>\n      <th>Date</th>\n      <th></th>\n      <th></th>\n      <th></th>\n    </tr>\n  </thead>\n  <tbody>\n    <tr>\n      <th>2022-09-22</th>\n      <td>619.110</td>\n      <td>196.4054</td>\n      <td>40.1388</td>\n    </tr>\n    <tr>\n      <th>2022-09-21</th>\n      <td>601.364</td>\n      <td>197.6984</td>\n      <td>39.9124</td>\n    </tr>\n    <tr>\n      <th>2022-09-20</th>\n      <td>596.787</td>\n      <td>197.7231</td>\n      <td>39.9416</td>\n    </tr>\n    <tr>\n      <th>2022-09-16</th>\n      <td>552.824</td>\n      <td>198.5412</td>\n      <td>39.8116</td>\n    </tr>\n    <tr>\n      <th>2022-09-15</th>\n      <td>538.099</td>\n      <td>199.9603</td>\n      <td>39.5316</td>\n    </tr>\n    <tr>\n      <th>...</th>\n      <td>...</td>\n      <td>...</td>\n      <td>...</td>\n    </tr>\n    <tr>\n      <th>2011-09-15</th>\n      <td>716.500</td>\n      <td>106.4495</td>\n      <td>86.2419</td>\n    </tr>\n    <tr>\n      <th>2011-09-14</th>\n      <td>744.166</td>\n      <td>105.5747</td>\n      <td>86.9643</td>\n    </tr>\n    <tr>\n      <th>2011-09-13</th>\n      <td>771.167</td>\n      <td>104.5590</td>\n      <td>87.8196</td>\n    </tr>\n    <tr>\n      <th>2011-09-12</th>\n      <td>800.750</td>\n      <td>103.6299</td>\n      <td>88.6162</td>\n    </tr>\n    <tr>\n      <th>2011-09-09</th>\n      <td>779.500</td>\n      <td>104.9709</td>\n      <td>87.5015</td>\n    </tr>\n  </tbody>\n</table>\n<p>2755 rows × 3 columns</p>\n</div>"
     },
     "execution_count": 25,
     "metadata": {},
     "output_type": "execute_result"
    }
   ],
   "source": [
    "ItraxxXover = utils.preprocessing.get_ItraxxXover(df)\n",
    "ItraxxXover"
   ],
   "metadata": {
    "collapsed": false
   }
  },
  {
   "cell_type": "code",
   "execution_count": 26,
   "outputs": [
    {
     "data": {
      "text/plain": "            Generic Price  ER Long Price  ER Short Price\nDate                                                    \n2022-09-21        100.584       110.9141         84.9577\n2022-09-20         98.471       111.0292         84.8987\n2022-09-19         86.798       111.2009         84.7962\n2022-09-16         89.170       111.0792         84.8893\n2022-09-15         89.239       111.0778         84.8903\n...                   ...            ...             ...\n2011-09-15        125.750        97.6042        100.0888\n2011-09-14        129.750        97.4377        100.2602\n2011-09-13        132.250        97.3285        100.3729\n2011-09-12        135.750        97.1249        100.5839\n2011-09-09        132.250        97.2998        100.4034\n\n[2759 rows x 3 columns]",
      "text/html": "<div>\n<style scoped>\n    .dataframe tbody tr th:only-of-type {\n        vertical-align: middle;\n    }\n\n    .dataframe tbody tr th {\n        vertical-align: top;\n    }\n\n    .dataframe thead th {\n        text-align: right;\n    }\n</style>\n<table border=\"1\" class=\"dataframe\">\n  <thead>\n    <tr style=\"text-align: right;\">\n      <th></th>\n      <th>Generic Price</th>\n      <th>ER Long Price</th>\n      <th>ER Short Price</th>\n    </tr>\n    <tr>\n      <th>Date</th>\n      <th></th>\n      <th></th>\n      <th></th>\n    </tr>\n  </thead>\n  <tbody>\n    <tr>\n      <th>2022-09-21</th>\n      <td>100.584</td>\n      <td>110.9141</td>\n      <td>84.9577</td>\n    </tr>\n    <tr>\n      <th>2022-09-20</th>\n      <td>98.471</td>\n      <td>111.0292</td>\n      <td>84.8987</td>\n    </tr>\n    <tr>\n      <th>2022-09-19</th>\n      <td>86.798</td>\n      <td>111.2009</td>\n      <td>84.7962</td>\n    </tr>\n    <tr>\n      <th>2022-09-16</th>\n      <td>89.170</td>\n      <td>111.0792</td>\n      <td>84.8893</td>\n    </tr>\n    <tr>\n      <th>2022-09-15</th>\n      <td>89.239</td>\n      <td>111.0778</td>\n      <td>84.8903</td>\n    </tr>\n    <tr>\n      <th>...</th>\n      <td>...</td>\n      <td>...</td>\n      <td>...</td>\n    </tr>\n    <tr>\n      <th>2011-09-15</th>\n      <td>125.750</td>\n      <td>97.6042</td>\n      <td>100.0888</td>\n    </tr>\n    <tr>\n      <th>2011-09-14</th>\n      <td>129.750</td>\n      <td>97.4377</td>\n      <td>100.2602</td>\n    </tr>\n    <tr>\n      <th>2011-09-13</th>\n      <td>132.250</td>\n      <td>97.3285</td>\n      <td>100.3729</td>\n    </tr>\n    <tr>\n      <th>2011-09-12</th>\n      <td>135.750</td>\n      <td>97.1249</td>\n      <td>100.5839</td>\n    </tr>\n    <tr>\n      <th>2011-09-09</th>\n      <td>132.250</td>\n      <td>97.2998</td>\n      <td>100.4034</td>\n    </tr>\n  </tbody>\n</table>\n<p>2759 rows × 3 columns</p>\n</div>"
     },
     "execution_count": 26,
     "metadata": {},
     "output_type": "execute_result"
    }
   ],
   "source": [
    "CDX_IG = utils.preprocessing.get_CDX_IG(df)\n",
    "CDX_IG"
   ],
   "metadata": {
    "collapsed": false
   }
  },
  {
   "cell_type": "code",
   "execution_count": 28,
   "outputs": [
    {
     "data": {
      "text/plain": "            Last Price        Volume\nDate                                \n2022-09-22     3778.47  0.000000e+00\n2022-09-21     3789.93  6.507671e+08\n2022-09-20     3855.93  6.069292e+08\n2022-09-19     3899.89  6.094226e+08\n2022-09-16     3873.33  2.094243e+09\n...                ...           ...\n1990-01-08      353.79  0.000000e+00\n1990-01-05      352.20  0.000000e+00\n1990-01-04      355.67  0.000000e+00\n1990-01-03      358.76  0.000000e+00\n1990-01-02      359.69  0.000000e+00\n\n[8246 rows x 2 columns]",
      "text/html": "<div>\n<style scoped>\n    .dataframe tbody tr th:only-of-type {\n        vertical-align: middle;\n    }\n\n    .dataframe tbody tr th {\n        vertical-align: top;\n    }\n\n    .dataframe thead th {\n        text-align: right;\n    }\n</style>\n<table border=\"1\" class=\"dataframe\">\n  <thead>\n    <tr style=\"text-align: right;\">\n      <th></th>\n      <th>Last Price</th>\n      <th>Volume</th>\n    </tr>\n    <tr>\n      <th>Date</th>\n      <th></th>\n      <th></th>\n    </tr>\n  </thead>\n  <tbody>\n    <tr>\n      <th>2022-09-22</th>\n      <td>3778.47</td>\n      <td>0.000000e+00</td>\n    </tr>\n    <tr>\n      <th>2022-09-21</th>\n      <td>3789.93</td>\n      <td>6.507671e+08</td>\n    </tr>\n    <tr>\n      <th>2022-09-20</th>\n      <td>3855.93</td>\n      <td>6.069292e+08</td>\n    </tr>\n    <tr>\n      <th>2022-09-19</th>\n      <td>3899.89</td>\n      <td>6.094226e+08</td>\n    </tr>\n    <tr>\n      <th>2022-09-16</th>\n      <td>3873.33</td>\n      <td>2.094243e+09</td>\n    </tr>\n    <tr>\n      <th>...</th>\n      <td>...</td>\n      <td>...</td>\n    </tr>\n    <tr>\n      <th>1990-01-08</th>\n      <td>353.79</td>\n      <td>0.000000e+00</td>\n    </tr>\n    <tr>\n      <th>1990-01-05</th>\n      <td>352.20</td>\n      <td>0.000000e+00</td>\n    </tr>\n    <tr>\n      <th>1990-01-04</th>\n      <td>355.67</td>\n      <td>0.000000e+00</td>\n    </tr>\n    <tr>\n      <th>1990-01-03</th>\n      <td>358.76</td>\n      <td>0.000000e+00</td>\n    </tr>\n    <tr>\n      <th>1990-01-02</th>\n      <td>359.69</td>\n      <td>0.000000e+00</td>\n    </tr>\n  </tbody>\n</table>\n<p>8246 rows × 2 columns</p>\n</div>"
     },
     "execution_count": 28,
     "metadata": {},
     "output_type": "execute_result"
    }
   ],
   "source": [
    "SPX = df['SPX']\n",
    "SPX = SPX.set_index('Date')\n",
    "SPX = SPX.dropna()\n",
    "SPX"
   ],
   "metadata": {
    "collapsed": false
   }
  },
  {
   "cell_type": "code",
   "execution_count": 29,
   "outputs": [
    {
     "data": {
      "text/plain": "            Last Price       Volume\nDate                               \n2022-09-21   3491.8701  282749440.0\n2022-09-20   3467.0901  355137088.0\n2022-09-19   3499.4900  245934352.0\n2022-09-16   3500.4099  683948800.0\n2022-09-15   3541.7900  438294688.0\n...                ...          ...\n2002-01-08   3724.0400  449038336.0\n2002-01-07   3754.4199  465529600.0\n2002-01-04   3820.4199  446310688.0\n2002-01-03   3833.0901  375642848.0\n2002-01-02   3755.5601  245793504.0\n\n[5314 rows x 2 columns]",
      "text/html": "<div>\n<style scoped>\n    .dataframe tbody tr th:only-of-type {\n        vertical-align: middle;\n    }\n\n    .dataframe tbody tr th {\n        vertical-align: top;\n    }\n\n    .dataframe thead th {\n        text-align: right;\n    }\n</style>\n<table border=\"1\" class=\"dataframe\">\n  <thead>\n    <tr style=\"text-align: right;\">\n      <th></th>\n      <th>Last Price</th>\n      <th>Volume</th>\n    </tr>\n    <tr>\n      <th>Date</th>\n      <th></th>\n      <th></th>\n    </tr>\n  </thead>\n  <tbody>\n    <tr>\n      <th>2022-09-21</th>\n      <td>3491.8701</td>\n      <td>282749440.0</td>\n    </tr>\n    <tr>\n      <th>2022-09-20</th>\n      <td>3467.0901</td>\n      <td>355137088.0</td>\n    </tr>\n    <tr>\n      <th>2022-09-19</th>\n      <td>3499.4900</td>\n      <td>245934352.0</td>\n    </tr>\n    <tr>\n      <th>2022-09-16</th>\n      <td>3500.4099</td>\n      <td>683948800.0</td>\n    </tr>\n    <tr>\n      <th>2022-09-15</th>\n      <td>3541.7900</td>\n      <td>438294688.0</td>\n    </tr>\n    <tr>\n      <th>...</th>\n      <td>...</td>\n      <td>...</td>\n    </tr>\n    <tr>\n      <th>2002-01-08</th>\n      <td>3724.0400</td>\n      <td>449038336.0</td>\n    </tr>\n    <tr>\n      <th>2002-01-07</th>\n      <td>3754.4199</td>\n      <td>465529600.0</td>\n    </tr>\n    <tr>\n      <th>2002-01-04</th>\n      <td>3820.4199</td>\n      <td>446310688.0</td>\n    </tr>\n    <tr>\n      <th>2002-01-03</th>\n      <td>3833.0901</td>\n      <td>375642848.0</td>\n    </tr>\n    <tr>\n      <th>2002-01-02</th>\n      <td>3755.5601</td>\n      <td>245793504.0</td>\n    </tr>\n  </tbody>\n</table>\n<p>5314 rows × 2 columns</p>\n</div>"
     },
     "execution_count": 29,
     "metadata": {},
     "output_type": "execute_result"
    }
   ],
   "source": [
    "EuSt = df['SX5E']\n",
    "EuSt = EuSt.set_index('Date')\n",
    "EuSt = EuSt.dropna()\n",
    "EuSt"
   ],
   "metadata": {
    "collapsed": false
   }
  },
  {
   "cell_type": "code",
   "execution_count": 31,
   "outputs": [
    {
     "data": {
      "text/plain": "            Generic Price_x  ER Long Price_x  ER Short Price_x  \\\nDate                                                             \n2022-09-21          122.361         113.5834           82.8257   \n2022-09-20          120.426         113.6542           82.8096   \n2022-09-16          112.323         113.7744           82.7576   \n2022-09-15          108.886         113.9900           82.6014   \n2022-09-14          106.728         114.0442           82.5622   \n...                     ...              ...               ...   \n2011-10-18          179.500          97.1315          100.5361   \n2011-10-17          175.875          97.3066          100.3556   \n2011-10-14          173.250          97.3884          100.2715   \n2011-10-13          179.159          97.1210          100.5486   \n2011-10-12          172.542          97.4034          100.2581   \n\n            Generic Price_y  ER Long Price_y  ER Short Price_y  Generic Price  \\\nDate                                                                            \n2022-09-21          601.364         197.6984           39.9124        100.584   \n2022-09-20          596.787         197.7231           39.9416         98.471   \n2022-09-16          552.824         198.5412           39.8116         89.170   \n2022-09-15          538.099         199.9603           39.5316         89.239   \n2022-09-14          524.334         200.6703           39.3925         85.258   \n...                     ...              ...               ...            ...   \n2011-10-18          752.500         108.1359           84.3346        133.000   \n2011-10-17          745.000         108.5257           84.0335        135.500   \n2011-10-14          741.000         108.5308           84.0296        130.500   \n2011-10-13          766.833         107.5737           84.7860        132.994   \n2011-10-12          743.834         108.3922           84.1524        131.000   \n\n            ER Long Price  ER Short Price  Last Price_x      Volume_x  \\\nDate                                                                    \n2022-09-21       110.9141         84.9577       3789.93  6.507671e+08   \n2022-09-20       111.0292         84.8987       3855.93  6.069292e+08   \n2022-09-16       111.0792         84.8893       3873.33  2.094243e+09   \n2022-09-15       111.0778         84.8903       3901.35  6.873780e+08   \n2022-09-14       111.2597         84.7518       3946.01  6.911695e+08   \n...                   ...             ...           ...           ...   \n2011-10-18        97.6134         99.8199       1225.38  8.819066e+08   \n2011-10-17        97.5263         99.9092       1200.86  6.956179e+08   \n2011-10-14        97.7239         99.7077       1224.58  6.463881e+08   \n2011-10-13        97.6050         99.8294       1203.66  7.023528e+08   \n2011-10-12        97.7054         99.7270       1207.25  8.221521e+08   \n\n            Last Price_y      Volume_y  \nDate                                    \n2022-09-21     3491.8701  2.827494e+08  \n2022-09-20     3467.0901  3.551371e+08  \n2022-09-16     3500.4099  6.839488e+08  \n2022-09-15     3541.7900  4.382947e+08  \n2022-09-14     3567.5601  3.002243e+08  \n...                  ...           ...  \n2011-10-18     2306.8101  9.816668e+08  \n2011-10-17     2315.8899  1.237832e+09  \n2011-10-14     2355.4800  1.291194e+09  \n2011-10-13     2332.5200  1.483237e+09  \n2011-10-12     2372.1499  1.342036e+09  \n\n[2664 rows x 13 columns]",
      "text/html": "<div>\n<style scoped>\n    .dataframe tbody tr th:only-of-type {\n        vertical-align: middle;\n    }\n\n    .dataframe tbody tr th {\n        vertical-align: top;\n    }\n\n    .dataframe thead th {\n        text-align: right;\n    }\n</style>\n<table border=\"1\" class=\"dataframe\">\n  <thead>\n    <tr style=\"text-align: right;\">\n      <th></th>\n      <th>Generic Price_x</th>\n      <th>ER Long Price_x</th>\n      <th>ER Short Price_x</th>\n      <th>Generic Price_y</th>\n      <th>ER Long Price_y</th>\n      <th>ER Short Price_y</th>\n      <th>Generic Price</th>\n      <th>ER Long Price</th>\n      <th>ER Short Price</th>\n      <th>Last Price_x</th>\n      <th>Volume_x</th>\n      <th>Last Price_y</th>\n      <th>Volume_y</th>\n    </tr>\n    <tr>\n      <th>Date</th>\n      <th></th>\n      <th></th>\n      <th></th>\n      <th></th>\n      <th></th>\n      <th></th>\n      <th></th>\n      <th></th>\n      <th></th>\n      <th></th>\n      <th></th>\n      <th></th>\n      <th></th>\n    </tr>\n  </thead>\n  <tbody>\n    <tr>\n      <th>2022-09-21</th>\n      <td>122.361</td>\n      <td>113.5834</td>\n      <td>82.8257</td>\n      <td>601.364</td>\n      <td>197.6984</td>\n      <td>39.9124</td>\n      <td>100.584</td>\n      <td>110.9141</td>\n      <td>84.9577</td>\n      <td>3789.93</td>\n      <td>6.507671e+08</td>\n      <td>3491.8701</td>\n      <td>2.827494e+08</td>\n    </tr>\n    <tr>\n      <th>2022-09-20</th>\n      <td>120.426</td>\n      <td>113.6542</td>\n      <td>82.8096</td>\n      <td>596.787</td>\n      <td>197.7231</td>\n      <td>39.9416</td>\n      <td>98.471</td>\n      <td>111.0292</td>\n      <td>84.8987</td>\n      <td>3855.93</td>\n      <td>6.069292e+08</td>\n      <td>3467.0901</td>\n      <td>3.551371e+08</td>\n    </tr>\n    <tr>\n      <th>2022-09-16</th>\n      <td>112.323</td>\n      <td>113.7744</td>\n      <td>82.7576</td>\n      <td>552.824</td>\n      <td>198.5412</td>\n      <td>39.8116</td>\n      <td>89.170</td>\n      <td>111.0792</td>\n      <td>84.8893</td>\n      <td>3873.33</td>\n      <td>2.094243e+09</td>\n      <td>3500.4099</td>\n      <td>6.839488e+08</td>\n    </tr>\n    <tr>\n      <th>2022-09-15</th>\n      <td>108.886</td>\n      <td>113.9900</td>\n      <td>82.6014</td>\n      <td>538.099</td>\n      <td>199.9603</td>\n      <td>39.5316</td>\n      <td>89.239</td>\n      <td>111.0778</td>\n      <td>84.8903</td>\n      <td>3901.35</td>\n      <td>6.873780e+08</td>\n      <td>3541.7900</td>\n      <td>4.382947e+08</td>\n    </tr>\n    <tr>\n      <th>2022-09-14</th>\n      <td>106.728</td>\n      <td>114.0442</td>\n      <td>82.5622</td>\n      <td>524.334</td>\n      <td>200.6703</td>\n      <td>39.3925</td>\n      <td>85.258</td>\n      <td>111.2597</td>\n      <td>84.7518</td>\n      <td>3946.01</td>\n      <td>6.911695e+08</td>\n      <td>3567.5601</td>\n      <td>3.002243e+08</td>\n    </tr>\n    <tr>\n      <th>...</th>\n      <td>...</td>\n      <td>...</td>\n      <td>...</td>\n      <td>...</td>\n      <td>...</td>\n      <td>...</td>\n      <td>...</td>\n      <td>...</td>\n      <td>...</td>\n      <td>...</td>\n      <td>...</td>\n      <td>...</td>\n      <td>...</td>\n    </tr>\n    <tr>\n      <th>2011-10-18</th>\n      <td>179.500</td>\n      <td>97.1315</td>\n      <td>100.5361</td>\n      <td>752.500</td>\n      <td>108.1359</td>\n      <td>84.3346</td>\n      <td>133.000</td>\n      <td>97.6134</td>\n      <td>99.8199</td>\n      <td>1225.38</td>\n      <td>8.819066e+08</td>\n      <td>2306.8101</td>\n      <td>9.816668e+08</td>\n    </tr>\n    <tr>\n      <th>2011-10-17</th>\n      <td>175.875</td>\n      <td>97.3066</td>\n      <td>100.3556</td>\n      <td>745.000</td>\n      <td>108.5257</td>\n      <td>84.0335</td>\n      <td>135.500</td>\n      <td>97.5263</td>\n      <td>99.9092</td>\n      <td>1200.86</td>\n      <td>6.956179e+08</td>\n      <td>2315.8899</td>\n      <td>1.237832e+09</td>\n    </tr>\n    <tr>\n      <th>2011-10-14</th>\n      <td>173.250</td>\n      <td>97.3884</td>\n      <td>100.2715</td>\n      <td>741.000</td>\n      <td>108.5308</td>\n      <td>84.0296</td>\n      <td>130.500</td>\n      <td>97.7239</td>\n      <td>99.7077</td>\n      <td>1224.58</td>\n      <td>6.463881e+08</td>\n      <td>2355.4800</td>\n      <td>1.291194e+09</td>\n    </tr>\n    <tr>\n      <th>2011-10-13</th>\n      <td>179.159</td>\n      <td>97.1210</td>\n      <td>100.5486</td>\n      <td>766.833</td>\n      <td>107.5737</td>\n      <td>84.7860</td>\n      <td>132.994</td>\n      <td>97.6050</td>\n      <td>99.8294</td>\n      <td>1203.66</td>\n      <td>7.023528e+08</td>\n      <td>2332.5200</td>\n      <td>1.483237e+09</td>\n    </tr>\n    <tr>\n      <th>2011-10-12</th>\n      <td>172.542</td>\n      <td>97.4034</td>\n      <td>100.2581</td>\n      <td>743.834</td>\n      <td>108.3922</td>\n      <td>84.1524</td>\n      <td>131.000</td>\n      <td>97.7054</td>\n      <td>99.7270</td>\n      <td>1207.25</td>\n      <td>8.221521e+08</td>\n      <td>2372.1499</td>\n      <td>1.342036e+09</td>\n    </tr>\n  </tbody>\n</table>\n<p>2664 rows × 13 columns</p>\n</div>"
     },
     "execution_count": 31,
     "metadata": {},
     "output_type": "execute_result"
    }
   ],
   "source": [
    "from functools import reduce\n",
    "df = reduce(lambda df1,df2: pd.merge(df1,df2,on='Date'), [ItraxxMain, ItraxxXover, CDX_IG, SPX, EuSt])\n",
    "df"
   ],
   "metadata": {
    "collapsed": false
   }
  },
  {
   "cell_type": "code",
   "execution_count": null,
   "outputs": [],
   "source": [],
   "metadata": {
    "collapsed": false
   }
  }
 ],
 "metadata": {
  "kernelspec": {
   "display_name": "Python 3",
   "language": "python",
   "name": "python3"
  },
  "language_info": {
   "codemirror_mode": {
    "name": "ipython",
    "version": 2
   },
   "file_extension": ".py",
   "mimetype": "text/x-python",
   "name": "python",
   "nbconvert_exporter": "python",
   "pygments_lexer": "ipython2",
   "version": "2.7.6"
  }
 },
 "nbformat": 4,
 "nbformat_minor": 0
}
