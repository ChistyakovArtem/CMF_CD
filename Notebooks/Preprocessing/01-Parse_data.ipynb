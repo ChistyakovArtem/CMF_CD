{
 "cells": [
  {
   "cell_type": "markdown",
   "source": [
    "First strategies"
   ],
   "metadata": {
    "collapsed": false
   }
  },
  {
   "cell_type": "markdown",
   "source": [
    "# Preprocessing"
   ],
   "metadata": {
    "collapsed": false
   }
  },
  {
   "cell_type": "code",
   "execution_count": 1,
   "metadata": {
    "collapsed": true
   },
   "outputs": [
    {
     "data": {
      "text/plain": "<module 'TechCore.utils.preprocessing' from 'C:\\\\Users\\\\artem\\\\.Computer Science\\\\CMF\\\\Projects\\\\Credit_Derivatives\\\\TechCore\\\\utils\\\\preprocessing.py'>"
     },
     "execution_count": 1,
     "metadata": {},
     "output_type": "execute_result"
    }
   ],
   "source": [
    "from importlib import reload\n",
    "import pandas as pd\n",
    "import matplotlib.pyplot as plt\n",
    "\n",
    "import TechCore.utils.preprocessing as preprocessing\n",
    "reload(preprocessing)"
   ]
  },
  {
   "cell_type": "code",
   "execution_count": 2,
   "outputs": [
    {
     "data": {
      "text/plain": "      Itraxx Main Generic                                       \\\n                     Date Last Price Last Price.1 Last Price.2   \n0              2022-09-22    125.509          NaN          NaN   \n1              2022-09-21    122.361          NaN          NaN   \n2              2022-09-20    120.426          NaN          NaN   \n3              2022-09-16    112.323          NaN          NaN   \n4              2022-09-15    108.886          NaN          NaN   \n...                   ...        ...          ...          ...   \n11827                 NaT        NaN          NaN          NaN   \n11828                 NaT        NaN          NaN          NaN   \n11829                 NaT        NaN          NaN          NaN   \n11830                 NaT        NaN          NaN          NaN   \n11831                 NaT        NaN          NaN          NaN   \n\n      Itraxx Xover Generic                                       \\\n                      Date Last Price Last Price.1 Last Price.2   \n0               2022-09-22    619.110          NaN          NaN   \n1               2022-09-21    601.364          NaN          NaN   \n2               2022-09-20    596.787          NaN          NaN   \n3               2022-09-16    552.824          NaN          NaN   \n4               2022-09-15    538.099          NaN          NaN   \n...                    ...        ...          ...          ...   \n11827                  NaT        NaN          NaN          NaN   \n11828                  NaT        NaN          NaN          NaN   \n11829                  NaT        NaN          NaN          NaN   \n11830                  NaT        NaN          NaN          NaN   \n11831                  NaT        NaN          NaN          NaN   \n\n      CDX IG Generic             ... ER CDX IG Short                     SPX  \\\n                Date Last Price  ...    Last Price.1 Last Price.2       Date   \n0         2022-09-22    101.883  ...             NaN          NaN 2022-09-22   \n1         2022-09-21    100.584  ...             NaN          NaN 2022-09-21   \n2         2022-09-20     98.471  ...             NaN          NaN 2022-09-20   \n3         2022-09-19     86.798  ...             NaN          NaN 2022-09-19   \n4         2022-09-16     89.170  ...             NaN          NaN 2022-09-16   \n...              ...        ...  ...             ...          ...        ...   \n11827            NaT        NaN  ...             NaN          NaN 1975-11-20   \n11828            NaT        NaN  ...             NaN          NaN 1975-11-19   \n11829            NaT        NaN  ...             NaN          NaN 1975-11-18   \n11830            NaT        NaN  ...             NaN          NaN 1975-11-17   \n11831            NaT        NaN  ...             NaN          NaN 1975-11-14   \n\n                                                       SX5E             \\\n      Last Price        Volume Volume.1 Volume.2       Date Last Price   \n0        3778.47  0.000000e+00      NaN      NaN 2022-09-22  3427.1399   \n1        3789.93  6.507671e+08      NaN      NaN 2022-09-21  3491.8701   \n2        3855.93  6.069292e+08      NaN      NaN 2022-09-20  3467.0901   \n3        3899.89  6.094226e+08      NaN      NaN 2022-09-19  3499.4900   \n4        3873.33  2.094243e+09      NaN      NaN 2022-09-16  3500.4099   \n...          ...           ...      ...      ...        ...        ...   \n11827      89.64           NaN      NaN      NaN        NaT        NaN   \n11828      89.98           NaN      NaN      NaN        NaT        NaN   \n11829      91.00           NaN      NaN      NaN        NaT        NaN   \n11830      91.46           NaN      NaN      NaN        NaT        NaN   \n11831      90.97           NaN      NaN      NaN        NaT        NaN   \n\n                    \n            Volume  \n0              NaN  \n1      282749440.0  \n2      355137088.0  \n3      245934352.0  \n4      683948800.0  \n...            ...  \n11827          NaN  \n11828          NaN  \n11829          NaN  \n11830          NaN  \n11831          NaN  \n\n[11832 rows x 44 columns]",
      "text/html": "<div>\n<style scoped>\n    .dataframe tbody tr th:only-of-type {\n        vertical-align: middle;\n    }\n\n    .dataframe tbody tr th {\n        vertical-align: top;\n    }\n\n    .dataframe thead tr th {\n        text-align: left;\n    }\n</style>\n<table border=\"1\" class=\"dataframe\">\n  <thead>\n    <tr>\n      <th></th>\n      <th colspan=\"4\" halign=\"left\">Itraxx Main Generic</th>\n      <th colspan=\"4\" halign=\"left\">Itraxx Xover Generic</th>\n      <th colspan=\"2\" halign=\"left\">CDX IG Generic</th>\n      <th>...</th>\n      <th colspan=\"2\" halign=\"left\">ER CDX IG Short</th>\n      <th colspan=\"5\" halign=\"left\">SPX</th>\n      <th colspan=\"3\" halign=\"left\">SX5E</th>\n    </tr>\n    <tr>\n      <th></th>\n      <th>Date</th>\n      <th>Last Price</th>\n      <th>Last Price.1</th>\n      <th>Last Price.2</th>\n      <th>Date</th>\n      <th>Last Price</th>\n      <th>Last Price.1</th>\n      <th>Last Price.2</th>\n      <th>Date</th>\n      <th>Last Price</th>\n      <th>...</th>\n      <th>Last Price.1</th>\n      <th>Last Price.2</th>\n      <th>Date</th>\n      <th>Last Price</th>\n      <th>Volume</th>\n      <th>Volume.1</th>\n      <th>Volume.2</th>\n      <th>Date</th>\n      <th>Last Price</th>\n      <th>Volume</th>\n    </tr>\n  </thead>\n  <tbody>\n    <tr>\n      <th>0</th>\n      <td>2022-09-22</td>\n      <td>125.509</td>\n      <td>NaN</td>\n      <td>NaN</td>\n      <td>2022-09-22</td>\n      <td>619.110</td>\n      <td>NaN</td>\n      <td>NaN</td>\n      <td>2022-09-22</td>\n      <td>101.883</td>\n      <td>...</td>\n      <td>NaN</td>\n      <td>NaN</td>\n      <td>2022-09-22</td>\n      <td>3778.47</td>\n      <td>0.000000e+00</td>\n      <td>NaN</td>\n      <td>NaN</td>\n      <td>2022-09-22</td>\n      <td>3427.1399</td>\n      <td>NaN</td>\n    </tr>\n    <tr>\n      <th>1</th>\n      <td>2022-09-21</td>\n      <td>122.361</td>\n      <td>NaN</td>\n      <td>NaN</td>\n      <td>2022-09-21</td>\n      <td>601.364</td>\n      <td>NaN</td>\n      <td>NaN</td>\n      <td>2022-09-21</td>\n      <td>100.584</td>\n      <td>...</td>\n      <td>NaN</td>\n      <td>NaN</td>\n      <td>2022-09-21</td>\n      <td>3789.93</td>\n      <td>6.507671e+08</td>\n      <td>NaN</td>\n      <td>NaN</td>\n      <td>2022-09-21</td>\n      <td>3491.8701</td>\n      <td>282749440.0</td>\n    </tr>\n    <tr>\n      <th>2</th>\n      <td>2022-09-20</td>\n      <td>120.426</td>\n      <td>NaN</td>\n      <td>NaN</td>\n      <td>2022-09-20</td>\n      <td>596.787</td>\n      <td>NaN</td>\n      <td>NaN</td>\n      <td>2022-09-20</td>\n      <td>98.471</td>\n      <td>...</td>\n      <td>NaN</td>\n      <td>NaN</td>\n      <td>2022-09-20</td>\n      <td>3855.93</td>\n      <td>6.069292e+08</td>\n      <td>NaN</td>\n      <td>NaN</td>\n      <td>2022-09-20</td>\n      <td>3467.0901</td>\n      <td>355137088.0</td>\n    </tr>\n    <tr>\n      <th>3</th>\n      <td>2022-09-16</td>\n      <td>112.323</td>\n      <td>NaN</td>\n      <td>NaN</td>\n      <td>2022-09-16</td>\n      <td>552.824</td>\n      <td>NaN</td>\n      <td>NaN</td>\n      <td>2022-09-19</td>\n      <td>86.798</td>\n      <td>...</td>\n      <td>NaN</td>\n      <td>NaN</td>\n      <td>2022-09-19</td>\n      <td>3899.89</td>\n      <td>6.094226e+08</td>\n      <td>NaN</td>\n      <td>NaN</td>\n      <td>2022-09-19</td>\n      <td>3499.4900</td>\n      <td>245934352.0</td>\n    </tr>\n    <tr>\n      <th>4</th>\n      <td>2022-09-15</td>\n      <td>108.886</td>\n      <td>NaN</td>\n      <td>NaN</td>\n      <td>2022-09-15</td>\n      <td>538.099</td>\n      <td>NaN</td>\n      <td>NaN</td>\n      <td>2022-09-16</td>\n      <td>89.170</td>\n      <td>...</td>\n      <td>NaN</td>\n      <td>NaN</td>\n      <td>2022-09-16</td>\n      <td>3873.33</td>\n      <td>2.094243e+09</td>\n      <td>NaN</td>\n      <td>NaN</td>\n      <td>2022-09-16</td>\n      <td>3500.4099</td>\n      <td>683948800.0</td>\n    </tr>\n    <tr>\n      <th>...</th>\n      <td>...</td>\n      <td>...</td>\n      <td>...</td>\n      <td>...</td>\n      <td>...</td>\n      <td>...</td>\n      <td>...</td>\n      <td>...</td>\n      <td>...</td>\n      <td>...</td>\n      <td>...</td>\n      <td>...</td>\n      <td>...</td>\n      <td>...</td>\n      <td>...</td>\n      <td>...</td>\n      <td>...</td>\n      <td>...</td>\n      <td>...</td>\n      <td>...</td>\n      <td>...</td>\n    </tr>\n    <tr>\n      <th>11827</th>\n      <td>NaT</td>\n      <td>NaN</td>\n      <td>NaN</td>\n      <td>NaN</td>\n      <td>NaT</td>\n      <td>NaN</td>\n      <td>NaN</td>\n      <td>NaN</td>\n      <td>NaT</td>\n      <td>NaN</td>\n      <td>...</td>\n      <td>NaN</td>\n      <td>NaN</td>\n      <td>1975-11-20</td>\n      <td>89.64</td>\n      <td>NaN</td>\n      <td>NaN</td>\n      <td>NaN</td>\n      <td>NaT</td>\n      <td>NaN</td>\n      <td>NaN</td>\n    </tr>\n    <tr>\n      <th>11828</th>\n      <td>NaT</td>\n      <td>NaN</td>\n      <td>NaN</td>\n      <td>NaN</td>\n      <td>NaT</td>\n      <td>NaN</td>\n      <td>NaN</td>\n      <td>NaN</td>\n      <td>NaT</td>\n      <td>NaN</td>\n      <td>...</td>\n      <td>NaN</td>\n      <td>NaN</td>\n      <td>1975-11-19</td>\n      <td>89.98</td>\n      <td>NaN</td>\n      <td>NaN</td>\n      <td>NaN</td>\n      <td>NaT</td>\n      <td>NaN</td>\n      <td>NaN</td>\n    </tr>\n    <tr>\n      <th>11829</th>\n      <td>NaT</td>\n      <td>NaN</td>\n      <td>NaN</td>\n      <td>NaN</td>\n      <td>NaT</td>\n      <td>NaN</td>\n      <td>NaN</td>\n      <td>NaN</td>\n      <td>NaT</td>\n      <td>NaN</td>\n      <td>...</td>\n      <td>NaN</td>\n      <td>NaN</td>\n      <td>1975-11-18</td>\n      <td>91.00</td>\n      <td>NaN</td>\n      <td>NaN</td>\n      <td>NaN</td>\n      <td>NaT</td>\n      <td>NaN</td>\n      <td>NaN</td>\n    </tr>\n    <tr>\n      <th>11830</th>\n      <td>NaT</td>\n      <td>NaN</td>\n      <td>NaN</td>\n      <td>NaN</td>\n      <td>NaT</td>\n      <td>NaN</td>\n      <td>NaN</td>\n      <td>NaN</td>\n      <td>NaT</td>\n      <td>NaN</td>\n      <td>...</td>\n      <td>NaN</td>\n      <td>NaN</td>\n      <td>1975-11-17</td>\n      <td>91.46</td>\n      <td>NaN</td>\n      <td>NaN</td>\n      <td>NaN</td>\n      <td>NaT</td>\n      <td>NaN</td>\n      <td>NaN</td>\n    </tr>\n    <tr>\n      <th>11831</th>\n      <td>NaT</td>\n      <td>NaN</td>\n      <td>NaN</td>\n      <td>NaN</td>\n      <td>NaT</td>\n      <td>NaN</td>\n      <td>NaN</td>\n      <td>NaN</td>\n      <td>NaT</td>\n      <td>NaN</td>\n      <td>...</td>\n      <td>NaN</td>\n      <td>NaN</td>\n      <td>1975-11-14</td>\n      <td>90.97</td>\n      <td>NaN</td>\n      <td>NaN</td>\n      <td>NaN</td>\n      <td>NaT</td>\n      <td>NaN</td>\n      <td>NaN</td>\n    </tr>\n  </tbody>\n</table>\n<p>11832 rows × 44 columns</p>\n</div>"
     },
     "execution_count": 2,
     "metadata": {},
     "output_type": "execute_result"
    }
   ],
   "source": [
    "df = pd.read_excel('../../TechCore/data/data_22.09.22__imm_.xlsx', header=[0, 1])\n",
    "df"
   ],
   "metadata": {
    "collapsed": false
   }
  },
  {
   "cell_type": "code",
   "execution_count": 3,
   "outputs": [],
   "source": [
    "df = df.dropna(axis=1, how='all')"
   ],
   "metadata": {
    "collapsed": false
   }
  },
  {
   "cell_type": "code",
   "execution_count": 4,
   "outputs": [
    {
     "data": {
      "text/plain": "            Generic Price  ER Long Price  ER Short Price\nDate                                                    \n2022-09-22        125.509       113.3897         82.9305\n2022-09-21        122.361       113.5834         82.8257\n2022-09-20        120.426       113.6542         82.8096\n2022-09-16        112.323       113.7744         82.7576\n2022-09-15        108.886       113.9900         82.6014\n...                   ...            ...             ...\n2007-03-26            NaN       100.1063         99.8937\n2007-03-23            NaN       100.1090         99.8911\n2007-03-22            NaN       100.0833         99.9168\n2007-03-21            NaN       100.0287         99.9713\n2007-03-20            NaN       100.0000        100.0000\n\n[3911 rows x 3 columns]",
      "text/html": "<div>\n<style scoped>\n    .dataframe tbody tr th:only-of-type {\n        vertical-align: middle;\n    }\n\n    .dataframe tbody tr th {\n        vertical-align: top;\n    }\n\n    .dataframe thead th {\n        text-align: right;\n    }\n</style>\n<table border=\"1\" class=\"dataframe\">\n  <thead>\n    <tr style=\"text-align: right;\">\n      <th></th>\n      <th>Generic Price</th>\n      <th>ER Long Price</th>\n      <th>ER Short Price</th>\n    </tr>\n    <tr>\n      <th>Date</th>\n      <th></th>\n      <th></th>\n      <th></th>\n    </tr>\n  </thead>\n  <tbody>\n    <tr>\n      <th>2022-09-22</th>\n      <td>125.509</td>\n      <td>113.3897</td>\n      <td>82.9305</td>\n    </tr>\n    <tr>\n      <th>2022-09-21</th>\n      <td>122.361</td>\n      <td>113.5834</td>\n      <td>82.8257</td>\n    </tr>\n    <tr>\n      <th>2022-09-20</th>\n      <td>120.426</td>\n      <td>113.6542</td>\n      <td>82.8096</td>\n    </tr>\n    <tr>\n      <th>2022-09-16</th>\n      <td>112.323</td>\n      <td>113.7744</td>\n      <td>82.7576</td>\n    </tr>\n    <tr>\n      <th>2022-09-15</th>\n      <td>108.886</td>\n      <td>113.9900</td>\n      <td>82.6014</td>\n    </tr>\n    <tr>\n      <th>...</th>\n      <td>...</td>\n      <td>...</td>\n      <td>...</td>\n    </tr>\n    <tr>\n      <th>2007-03-26</th>\n      <td>NaN</td>\n      <td>100.1063</td>\n      <td>99.8937</td>\n    </tr>\n    <tr>\n      <th>2007-03-23</th>\n      <td>NaN</td>\n      <td>100.1090</td>\n      <td>99.8911</td>\n    </tr>\n    <tr>\n      <th>2007-03-22</th>\n      <td>NaN</td>\n      <td>100.0833</td>\n      <td>99.9168</td>\n    </tr>\n    <tr>\n      <th>2007-03-21</th>\n      <td>NaN</td>\n      <td>100.0287</td>\n      <td>99.9713</td>\n    </tr>\n    <tr>\n      <th>2007-03-20</th>\n      <td>NaN</td>\n      <td>100.0000</td>\n      <td>100.0000</td>\n    </tr>\n  </tbody>\n</table>\n<p>3911 rows × 3 columns</p>\n</div>"
     },
     "execution_count": 4,
     "metadata": {},
     "output_type": "execute_result"
    }
   ],
   "source": [
    "ItraxxMain = preprocessing.get_ItraxxMain(df)\n",
    "ItraxxMain"
   ],
   "metadata": {
    "collapsed": false
   }
  },
  {
   "cell_type": "code",
   "execution_count": 5,
   "outputs": [
    {
     "data": {
      "text/plain": "            Generic Price  ER Long Price  ER Short Price\nDate                                                    \n2022-09-22        619.110       196.4054         40.1388\n2022-09-21        601.364       197.6984         39.9124\n2022-09-20        596.787       197.7231         39.9416\n2022-09-16        552.824       198.5412         39.8116\n2022-09-15        538.099       199.9603         39.5316\n...                   ...            ...             ...\n2007-03-26            NaN       100.7493         99.2515\n2007-03-23            NaN       100.8924         99.1111\n2007-03-22            NaN       100.8037         99.1985\n2007-03-21            NaN       100.2951         99.7046\n2007-03-20            NaN       100.0000        100.0000\n\n[3911 rows x 3 columns]",
      "text/html": "<div>\n<style scoped>\n    .dataframe tbody tr th:only-of-type {\n        vertical-align: middle;\n    }\n\n    .dataframe tbody tr th {\n        vertical-align: top;\n    }\n\n    .dataframe thead th {\n        text-align: right;\n    }\n</style>\n<table border=\"1\" class=\"dataframe\">\n  <thead>\n    <tr style=\"text-align: right;\">\n      <th></th>\n      <th>Generic Price</th>\n      <th>ER Long Price</th>\n      <th>ER Short Price</th>\n    </tr>\n    <tr>\n      <th>Date</th>\n      <th></th>\n      <th></th>\n      <th></th>\n    </tr>\n  </thead>\n  <tbody>\n    <tr>\n      <th>2022-09-22</th>\n      <td>619.110</td>\n      <td>196.4054</td>\n      <td>40.1388</td>\n    </tr>\n    <tr>\n      <th>2022-09-21</th>\n      <td>601.364</td>\n      <td>197.6984</td>\n      <td>39.9124</td>\n    </tr>\n    <tr>\n      <th>2022-09-20</th>\n      <td>596.787</td>\n      <td>197.7231</td>\n      <td>39.9416</td>\n    </tr>\n    <tr>\n      <th>2022-09-16</th>\n      <td>552.824</td>\n      <td>198.5412</td>\n      <td>39.8116</td>\n    </tr>\n    <tr>\n      <th>2022-09-15</th>\n      <td>538.099</td>\n      <td>199.9603</td>\n      <td>39.5316</td>\n    </tr>\n    <tr>\n      <th>...</th>\n      <td>...</td>\n      <td>...</td>\n      <td>...</td>\n    </tr>\n    <tr>\n      <th>2007-03-26</th>\n      <td>NaN</td>\n      <td>100.7493</td>\n      <td>99.2515</td>\n    </tr>\n    <tr>\n      <th>2007-03-23</th>\n      <td>NaN</td>\n      <td>100.8924</td>\n      <td>99.1111</td>\n    </tr>\n    <tr>\n      <th>2007-03-22</th>\n      <td>NaN</td>\n      <td>100.8037</td>\n      <td>99.1985</td>\n    </tr>\n    <tr>\n      <th>2007-03-21</th>\n      <td>NaN</td>\n      <td>100.2951</td>\n      <td>99.7046</td>\n    </tr>\n    <tr>\n      <th>2007-03-20</th>\n      <td>NaN</td>\n      <td>100.0000</td>\n      <td>100.0000</td>\n    </tr>\n  </tbody>\n</table>\n<p>3911 rows × 3 columns</p>\n</div>"
     },
     "execution_count": 5,
     "metadata": {},
     "output_type": "execute_result"
    }
   ],
   "source": [
    "ItraxxXover = preprocessing.get_ItraxxXover(df)\n",
    "ItraxxXover"
   ],
   "metadata": {
    "collapsed": false
   }
  },
  {
   "cell_type": "code",
   "execution_count": 6,
   "outputs": [
    {
     "data": {
      "text/plain": "            Generic Price  ER Long Price  ER Short Price\nDate                                                    \n2022-09-22        101.883            NaN             NaN\n2022-09-21        100.584       110.9141         84.9577\n2022-09-20         98.471       111.0292         84.8987\n2022-09-19         86.798       111.2009         84.7962\n2022-09-16         89.170       111.0792         84.8893\n...                   ...            ...             ...\n2007-03-26            NaN       100.0683         99.9317\n2007-03-23            NaN       100.1108         99.8892\n2007-03-22            NaN       100.1147         99.8854\n2007-03-21            NaN       100.0850         99.9150\n2007-03-20            NaN       100.0000        100.0000\n\n[3882 rows x 3 columns]",
      "text/html": "<div>\n<style scoped>\n    .dataframe tbody tr th:only-of-type {\n        vertical-align: middle;\n    }\n\n    .dataframe tbody tr th {\n        vertical-align: top;\n    }\n\n    .dataframe thead th {\n        text-align: right;\n    }\n</style>\n<table border=\"1\" class=\"dataframe\">\n  <thead>\n    <tr style=\"text-align: right;\">\n      <th></th>\n      <th>Generic Price</th>\n      <th>ER Long Price</th>\n      <th>ER Short Price</th>\n    </tr>\n    <tr>\n      <th>Date</th>\n      <th></th>\n      <th></th>\n      <th></th>\n    </tr>\n  </thead>\n  <tbody>\n    <tr>\n      <th>2022-09-22</th>\n      <td>101.883</td>\n      <td>NaN</td>\n      <td>NaN</td>\n    </tr>\n    <tr>\n      <th>2022-09-21</th>\n      <td>100.584</td>\n      <td>110.9141</td>\n      <td>84.9577</td>\n    </tr>\n    <tr>\n      <th>2022-09-20</th>\n      <td>98.471</td>\n      <td>111.0292</td>\n      <td>84.8987</td>\n    </tr>\n    <tr>\n      <th>2022-09-19</th>\n      <td>86.798</td>\n      <td>111.2009</td>\n      <td>84.7962</td>\n    </tr>\n    <tr>\n      <th>2022-09-16</th>\n      <td>89.170</td>\n      <td>111.0792</td>\n      <td>84.8893</td>\n    </tr>\n    <tr>\n      <th>...</th>\n      <td>...</td>\n      <td>...</td>\n      <td>...</td>\n    </tr>\n    <tr>\n      <th>2007-03-26</th>\n      <td>NaN</td>\n      <td>100.0683</td>\n      <td>99.9317</td>\n    </tr>\n    <tr>\n      <th>2007-03-23</th>\n      <td>NaN</td>\n      <td>100.1108</td>\n      <td>99.8892</td>\n    </tr>\n    <tr>\n      <th>2007-03-22</th>\n      <td>NaN</td>\n      <td>100.1147</td>\n      <td>99.8854</td>\n    </tr>\n    <tr>\n      <th>2007-03-21</th>\n      <td>NaN</td>\n      <td>100.0850</td>\n      <td>99.9150</td>\n    </tr>\n    <tr>\n      <th>2007-03-20</th>\n      <td>NaN</td>\n      <td>100.0000</td>\n      <td>100.0000</td>\n    </tr>\n  </tbody>\n</table>\n<p>3882 rows × 3 columns</p>\n</div>"
     },
     "execution_count": 6,
     "metadata": {},
     "output_type": "execute_result"
    }
   ],
   "source": [
    "CDX_IG = preprocessing.get_CDX_IG(df)\n",
    "CDX_IG"
   ],
   "metadata": {
    "collapsed": false
   }
  },
  {
   "cell_type": "code",
   "execution_count": 7,
   "outputs": [
    {
     "data": {
      "text/plain": "            Last Price        Volume\nDate                                \n2022-09-22     3778.47  0.000000e+00\n2022-09-21     3789.93  6.507671e+08\n2022-09-20     3855.93  6.069292e+08\n2022-09-19     3899.89  6.094226e+08\n2022-09-16     3873.33  2.094243e+09\n...                ...           ...\n1990-01-08      353.79  0.000000e+00\n1990-01-05      352.20  0.000000e+00\n1990-01-04      355.67  0.000000e+00\n1990-01-03      358.76  0.000000e+00\n1990-01-02      359.69  0.000000e+00\n\n[8246 rows x 2 columns]",
      "text/html": "<div>\n<style scoped>\n    .dataframe tbody tr th:only-of-type {\n        vertical-align: middle;\n    }\n\n    .dataframe tbody tr th {\n        vertical-align: top;\n    }\n\n    .dataframe thead th {\n        text-align: right;\n    }\n</style>\n<table border=\"1\" class=\"dataframe\">\n  <thead>\n    <tr style=\"text-align: right;\">\n      <th></th>\n      <th>Last Price</th>\n      <th>Volume</th>\n    </tr>\n    <tr>\n      <th>Date</th>\n      <th></th>\n      <th></th>\n    </tr>\n  </thead>\n  <tbody>\n    <tr>\n      <th>2022-09-22</th>\n      <td>3778.47</td>\n      <td>0.000000e+00</td>\n    </tr>\n    <tr>\n      <th>2022-09-21</th>\n      <td>3789.93</td>\n      <td>6.507671e+08</td>\n    </tr>\n    <tr>\n      <th>2022-09-20</th>\n      <td>3855.93</td>\n      <td>6.069292e+08</td>\n    </tr>\n    <tr>\n      <th>2022-09-19</th>\n      <td>3899.89</td>\n      <td>6.094226e+08</td>\n    </tr>\n    <tr>\n      <th>2022-09-16</th>\n      <td>3873.33</td>\n      <td>2.094243e+09</td>\n    </tr>\n    <tr>\n      <th>...</th>\n      <td>...</td>\n      <td>...</td>\n    </tr>\n    <tr>\n      <th>1990-01-08</th>\n      <td>353.79</td>\n      <td>0.000000e+00</td>\n    </tr>\n    <tr>\n      <th>1990-01-05</th>\n      <td>352.20</td>\n      <td>0.000000e+00</td>\n    </tr>\n    <tr>\n      <th>1990-01-04</th>\n      <td>355.67</td>\n      <td>0.000000e+00</td>\n    </tr>\n    <tr>\n      <th>1990-01-03</th>\n      <td>358.76</td>\n      <td>0.000000e+00</td>\n    </tr>\n    <tr>\n      <th>1990-01-02</th>\n      <td>359.69</td>\n      <td>0.000000e+00</td>\n    </tr>\n  </tbody>\n</table>\n<p>8246 rows × 2 columns</p>\n</div>"
     },
     "execution_count": 7,
     "metadata": {},
     "output_type": "execute_result"
    }
   ],
   "source": [
    "SPX = df['SPX']\n",
    "SPX = SPX.set_index('Date')\n",
    "SPX = SPX.dropna()\n",
    "SPX"
   ],
   "metadata": {
    "collapsed": false
   }
  },
  {
   "cell_type": "code",
   "execution_count": 8,
   "outputs": [
    {
     "data": {
      "text/plain": "            Last Price       Volume\nDate                               \n2022-09-21   3491.8701  282749440.0\n2022-09-20   3467.0901  355137088.0\n2022-09-19   3499.4900  245934352.0\n2022-09-16   3500.4099  683948800.0\n2022-09-15   3541.7900  438294688.0\n...                ...          ...\n2002-01-08   3724.0400  449038336.0\n2002-01-07   3754.4199  465529600.0\n2002-01-04   3820.4199  446310688.0\n2002-01-03   3833.0901  375642848.0\n2002-01-02   3755.5601  245793504.0\n\n[5314 rows x 2 columns]",
      "text/html": "<div>\n<style scoped>\n    .dataframe tbody tr th:only-of-type {\n        vertical-align: middle;\n    }\n\n    .dataframe tbody tr th {\n        vertical-align: top;\n    }\n\n    .dataframe thead th {\n        text-align: right;\n    }\n</style>\n<table border=\"1\" class=\"dataframe\">\n  <thead>\n    <tr style=\"text-align: right;\">\n      <th></th>\n      <th>Last Price</th>\n      <th>Volume</th>\n    </tr>\n    <tr>\n      <th>Date</th>\n      <th></th>\n      <th></th>\n    </tr>\n  </thead>\n  <tbody>\n    <tr>\n      <th>2022-09-21</th>\n      <td>3491.8701</td>\n      <td>282749440.0</td>\n    </tr>\n    <tr>\n      <th>2022-09-20</th>\n      <td>3467.0901</td>\n      <td>355137088.0</td>\n    </tr>\n    <tr>\n      <th>2022-09-19</th>\n      <td>3499.4900</td>\n      <td>245934352.0</td>\n    </tr>\n    <tr>\n      <th>2022-09-16</th>\n      <td>3500.4099</td>\n      <td>683948800.0</td>\n    </tr>\n    <tr>\n      <th>2022-09-15</th>\n      <td>3541.7900</td>\n      <td>438294688.0</td>\n    </tr>\n    <tr>\n      <th>...</th>\n      <td>...</td>\n      <td>...</td>\n    </tr>\n    <tr>\n      <th>2002-01-08</th>\n      <td>3724.0400</td>\n      <td>449038336.0</td>\n    </tr>\n    <tr>\n      <th>2002-01-07</th>\n      <td>3754.4199</td>\n      <td>465529600.0</td>\n    </tr>\n    <tr>\n      <th>2002-01-04</th>\n      <td>3820.4199</td>\n      <td>446310688.0</td>\n    </tr>\n    <tr>\n      <th>2002-01-03</th>\n      <td>3833.0901</td>\n      <td>375642848.0</td>\n    </tr>\n    <tr>\n      <th>2002-01-02</th>\n      <td>3755.5601</td>\n      <td>245793504.0</td>\n    </tr>\n  </tbody>\n</table>\n<p>5314 rows × 2 columns</p>\n</div>"
     },
     "execution_count": 8,
     "metadata": {},
     "output_type": "execute_result"
    }
   ],
   "source": [
    "EuSt = df['SX5E']\n",
    "EuSt = EuSt.set_index('Date')\n",
    "EuSt = EuSt.dropna()\n",
    "EuSt"
   ],
   "metadata": {
    "collapsed": false
   }
  },
  {
   "cell_type": "code",
   "execution_count": 9,
   "outputs": [],
   "source": [
    "from functools import reduce\n",
    "df = reduce(lambda df1,df2: pd.merge(df1,df2,on='Date'), [ItraxxMain['ER Long Price'], ItraxxXover['ER Long Price'], CDX_IG['ER Long Price'], SPX, EuSt])\n",
    "\n",
    "df.columns = [\n",
    "    'ItraxxMain',\n",
    "    'ItraxxXover',\n",
    "    'CDX_IG',\n",
    "    'SPX_Price',\n",
    "    'SPX_Volume',\n",
    "    'EuSt_Price',\n",
    "    'EuSt_Volume'\n",
    "]"
   ],
   "metadata": {
    "collapsed": false
   }
  },
  {
   "cell_type": "code",
   "execution_count": 10,
   "outputs": [
    {
     "data": {
      "text/plain": "            ItraxxMain  ItraxxXover    CDX_IG  SPX_Price    SPX_Volume  \\\nDate                                                                     \n2007-03-20    100.0000     100.0000  100.0000    1410.94  1.182479e+09   \n2007-03-21    100.0287     100.2951  100.0850    1435.04  1.399847e+09   \n2007-03-22    100.0833     100.8037  100.1147    1434.54  1.286669e+09   \n2007-03-23    100.1090     100.8924  100.1108    1436.11  1.122459e+09   \n2007-03-26    100.1063     100.7493  100.0683    1437.50  1.187999e+09   \n...                ...          ...       ...        ...           ...   \n2022-09-14    114.0442     200.6703  111.2597    3946.01  6.911695e+08   \n2022-09-15    113.9900     199.9603  111.0778    3901.35  6.873780e+08   \n2022-09-16    113.7744     198.5412  111.0792    3873.33  2.094243e+09   \n2022-09-20    113.6542     197.7231  111.0292    3855.93  6.069292e+08   \n2022-09-21    113.5834     197.6984  110.9141    3789.93  6.507671e+08   \n\n            EuSt_Price   EuSt_Volume  \nDate                                  \n2007-03-20   4079.5200  9.134466e+08  \n2007-03-21   4078.2900  8.624504e+08  \n2007-03-22   4170.0801  1.174437e+09  \n2007-03-23   4191.5801  9.219071e+08  \n2007-03-26   4142.1099  9.893587e+08  \n...                ...           ...  \n2022-09-14   3567.5601  3.002243e+08  \n2022-09-15   3541.7900  4.382947e+08  \n2022-09-16   3500.4099  6.839488e+08  \n2022-09-20   3467.0901  3.551371e+08  \n2022-09-21   3491.8701  2.827494e+08  \n\n[3794 rows x 7 columns]",
      "text/html": "<div>\n<style scoped>\n    .dataframe tbody tr th:only-of-type {\n        vertical-align: middle;\n    }\n\n    .dataframe tbody tr th {\n        vertical-align: top;\n    }\n\n    .dataframe thead th {\n        text-align: right;\n    }\n</style>\n<table border=\"1\" class=\"dataframe\">\n  <thead>\n    <tr style=\"text-align: right;\">\n      <th></th>\n      <th>ItraxxMain</th>\n      <th>ItraxxXover</th>\n      <th>CDX_IG</th>\n      <th>SPX_Price</th>\n      <th>SPX_Volume</th>\n      <th>EuSt_Price</th>\n      <th>EuSt_Volume</th>\n    </tr>\n    <tr>\n      <th>Date</th>\n      <th></th>\n      <th></th>\n      <th></th>\n      <th></th>\n      <th></th>\n      <th></th>\n      <th></th>\n    </tr>\n  </thead>\n  <tbody>\n    <tr>\n      <th>2007-03-20</th>\n      <td>100.0000</td>\n      <td>100.0000</td>\n      <td>100.0000</td>\n      <td>1410.94</td>\n      <td>1.182479e+09</td>\n      <td>4079.5200</td>\n      <td>9.134466e+08</td>\n    </tr>\n    <tr>\n      <th>2007-03-21</th>\n      <td>100.0287</td>\n      <td>100.2951</td>\n      <td>100.0850</td>\n      <td>1435.04</td>\n      <td>1.399847e+09</td>\n      <td>4078.2900</td>\n      <td>8.624504e+08</td>\n    </tr>\n    <tr>\n      <th>2007-03-22</th>\n      <td>100.0833</td>\n      <td>100.8037</td>\n      <td>100.1147</td>\n      <td>1434.54</td>\n      <td>1.286669e+09</td>\n      <td>4170.0801</td>\n      <td>1.174437e+09</td>\n    </tr>\n    <tr>\n      <th>2007-03-23</th>\n      <td>100.1090</td>\n      <td>100.8924</td>\n      <td>100.1108</td>\n      <td>1436.11</td>\n      <td>1.122459e+09</td>\n      <td>4191.5801</td>\n      <td>9.219071e+08</td>\n    </tr>\n    <tr>\n      <th>2007-03-26</th>\n      <td>100.1063</td>\n      <td>100.7493</td>\n      <td>100.0683</td>\n      <td>1437.50</td>\n      <td>1.187999e+09</td>\n      <td>4142.1099</td>\n      <td>9.893587e+08</td>\n    </tr>\n    <tr>\n      <th>...</th>\n      <td>...</td>\n      <td>...</td>\n      <td>...</td>\n      <td>...</td>\n      <td>...</td>\n      <td>...</td>\n      <td>...</td>\n    </tr>\n    <tr>\n      <th>2022-09-14</th>\n      <td>114.0442</td>\n      <td>200.6703</td>\n      <td>111.2597</td>\n      <td>3946.01</td>\n      <td>6.911695e+08</td>\n      <td>3567.5601</td>\n      <td>3.002243e+08</td>\n    </tr>\n    <tr>\n      <th>2022-09-15</th>\n      <td>113.9900</td>\n      <td>199.9603</td>\n      <td>111.0778</td>\n      <td>3901.35</td>\n      <td>6.873780e+08</td>\n      <td>3541.7900</td>\n      <td>4.382947e+08</td>\n    </tr>\n    <tr>\n      <th>2022-09-16</th>\n      <td>113.7744</td>\n      <td>198.5412</td>\n      <td>111.0792</td>\n      <td>3873.33</td>\n      <td>2.094243e+09</td>\n      <td>3500.4099</td>\n      <td>6.839488e+08</td>\n    </tr>\n    <tr>\n      <th>2022-09-20</th>\n      <td>113.6542</td>\n      <td>197.7231</td>\n      <td>111.0292</td>\n      <td>3855.93</td>\n      <td>6.069292e+08</td>\n      <td>3467.0901</td>\n      <td>3.551371e+08</td>\n    </tr>\n    <tr>\n      <th>2022-09-21</th>\n      <td>113.5834</td>\n      <td>197.6984</td>\n      <td>110.9141</td>\n      <td>3789.93</td>\n      <td>6.507671e+08</td>\n      <td>3491.8701</td>\n      <td>2.827494e+08</td>\n    </tr>\n  </tbody>\n</table>\n<p>3794 rows × 7 columns</p>\n</div>"
     },
     "execution_count": 10,
     "metadata": {},
     "output_type": "execute_result"
    }
   ],
   "source": [
    "df = df.iloc[::-1]\n",
    "df"
   ],
   "metadata": {
    "collapsed": false
   }
  },
  {
   "cell_type": "code",
   "execution_count": 11,
   "outputs": [],
   "source": [
    "df.to_csv('01_result.csv')"
   ],
   "metadata": {
    "collapsed": false
   }
  }
 ],
 "metadata": {
  "kernelspec": {
   "display_name": "Python 3",
   "language": "python",
   "name": "python3"
  },
  "language_info": {
   "codemirror_mode": {
    "name": "ipython",
    "version": 2
   },
   "file_extension": ".py",
   "mimetype": "text/x-python",
   "name": "python",
   "nbconvert_exporter": "python",
   "pygments_lexer": "ipython2",
   "version": "2.7.6"
  }
 },
 "nbformat": 4,
 "nbformat_minor": 0
}
