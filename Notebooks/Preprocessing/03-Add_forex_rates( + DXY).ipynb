{
 "cells": [
  {
   "cell_type": "code",
   "execution_count": 1,
   "outputs": [],
   "source": [
    "import pandas as pd"
   ],
   "metadata": {
    "collapsed": false
   }
  },
  {
   "cell_type": "code",
   "execution_count": 2,
   "outputs": [],
   "source": [
    "#import libraries to handle request to api\n",
    "import requests\n",
    "import json\n",
    "import pprint\n",
    "# base currency or reference currency\n",
    "base=\"USD\"\n",
    "\n",
    "# required currency for plot\n",
    "currencies = {\n",
    "    'China': 'CNY',\n",
    "    'Europe': 'EUR',\n",
    "    'Japan': 'JPY',\n",
    "    'India': 'INR',\n",
    "    'Canada': 'CAD',\n",
    "    'Korea': 'KRW',\n",
    "    'UK': 'GBP',\n",
    "    'Brazil': 'BRL',\n",
    "    'Mexico': 'MXN',\n",
    "    'Turkey': 'TRY',\n",
    "    'Taiwan': 'TWD',\n",
    "    'Singapore': 'SGD',\n",
    "    'Australia': 'AUD',\n",
    "    'South Africa': 'ZAR',\n",
    "    'Egypt': 'EGP',\n",
    "    'Nigeria': 'NGN',\n",
    "    'Indonesia': 'IDR',\n",
    "    'Malaysia': 'MYR',\n",
    "    'Iraq': 'IQD',\n",
    "    'Philippines': 'PHP',\n",
    "    'Thailand': 'THB',\n",
    "    'Israel': 'ILS',\n",
    "    'Switzerland': 'CHF'\n",
    "}\n",
    "\n",
    "dates = ['2007-01-01', '2008-01-01', '2009-01-01', '2010-01-01', '2011-01-01', '2012-01-01', '2013-01-01', '2014-01-01', '2015-01-01', '2016-01-01', '2017-01-01', '2018-01-01', '2019-01-01', '2020-01-01', '2021-01-01', '2022-01-01', '2023-01-01']\n",
    "\n",
    "df_list = []\n",
    "for i in range(1, len(dates)):\n",
    "    df_big = pd.DataFrame()\n",
    "\n",
    "    for country, currency in currencies.items():\n",
    "        url = 'https://api.exchangerate.host/timeseries?base={0}&start_date={1}&end_date={2}&symbols={3}'.format(base,dates[i - 1], dates[i], currency)\n",
    "        response = requests.get(url)\n",
    "\n",
    "        data = response.json()\n",
    "        df = pd.DataFrame(data['rates']).T\n",
    "\n",
    "        df_big['USD/' + country] = df[currency]\n",
    "\n",
    "    df_list.append(df_big[:-1])"
   ],
   "metadata": {
    "collapsed": false
   }
  },
  {
   "cell_type": "code",
   "execution_count": 3,
   "outputs": [],
   "source": [
    "forex = pd.concat(df_list)"
   ],
   "metadata": {
    "collapsed": false
   }
  },
  {
   "cell_type": "code",
   "execution_count": 4,
   "outputs": [],
   "source": [
    "df = pd.read_csv('02_result.csv').set_index('Unnamed: 0')\n",
    "df.index.names = ['']"
   ],
   "metadata": {
    "collapsed": false
   }
  },
  {
   "cell_type": "code",
   "execution_count": 5,
   "outputs": [],
   "source": [
    "df = df.merge(forex, left_index=True, right_index=True)"
   ],
   "metadata": {
    "collapsed": false
   }
  },
  {
   "cell_type": "code",
   "execution_count": 6,
   "outputs": [
    {
     "data": {
      "text/plain": "            ItraxxMain  ItraxxXover    CDX_IG  SPX_Price    SPX_Volume  \\\n2007-03-20    100.0000     100.0000  100.0000    1410.94  1.182479e+09   \n2007-03-21    100.0287     100.2951  100.0850    1435.04  1.399847e+09   \n2007-03-22    100.0833     100.8037  100.1147    1434.54  1.286669e+09   \n2007-03-23    100.1090     100.8924  100.1108    1436.11  1.122459e+09   \n2007-03-26    100.1063     100.7493  100.0683    1437.50  1.187999e+09   \n...                ...          ...       ...        ...           ...   \n2021-12-21    116.2111     218.0884  112.2719    4649.23  6.201414e+08   \n2021-12-22    116.2445     218.5824  112.3261    4696.56  4.564783e+08   \n2021-12-23    116.3149     219.2426  112.3691    4725.79  4.332652e+08   \n2021-12-29    116.3138     219.0620  112.4060    4793.06  3.660017e+08   \n2021-12-30    116.3518     219.3878  112.3916    4778.73  3.315328e+08   \n\n            EuSt_Price   EuSt_Volume  Oil (WTI-Oklahoma)  Oil (Brent-EU)  \\\n2007-03-20   4079.5200  9.134466e+08               56.41           60.11   \n2007-03-21   4078.2900  8.624504e+08               56.98           60.18   \n2007-03-22   4170.0801  1.174437e+09               60.21           61.57   \n2007-03-23   4191.5801  9.219071e+08               61.07           63.10   \n2007-03-26   4142.1099  9.893587e+08               61.77           64.43   \n...                ...           ...                 ...             ...   \n2021-12-21   4174.9902  2.725863e+08               71.10           72.85   \n2021-12-22   4217.0601  1.945563e+08               72.82           74.69   \n2021-12-23   4265.8599  2.421080e+08               73.89           76.26   \n2021-12-29   4284.8301  1.666996e+08               76.58           78.63   \n2021-12-30   4306.0698  1.870611e+08               76.83           78.61   \n\n            Conventional Gasoline (NY Harbor)  ...  USD/South Africa  \\\n2007-03-20                              1.914  ...          7.381947   \n2007-03-21                              1.910  ...          7.267184   \n2007-03-22                              1.914  ...          7.197165   \n2007-03-23                              1.930  ...          7.215838   \n2007-03-26                              2.000  ...          7.212871   \n...                                       ...  ...               ...   \n2021-12-21                              2.207  ...         15.837798   \n2021-12-22                              2.222  ...         15.719020   \n2021-12-23                              2.257  ...         15.650105   \n2021-12-29                              2.317  ...         15.921102   \n2021-12-30                              2.322  ...         15.921991   \n\n            USD/Egypt  USD/Nigeria  USD/Indonesia  USD/Malaysia     USD/Iraq  \\\n2007-03-20   5.446981   122.679483    8775.533193      3.491439  1214.441274   \n2007-03-21   5.407717   122.225539    8724.755430      3.446974  1208.985745   \n2007-03-22   5.434078   122.821359    8767.286486      3.465127  1214.879256   \n2007-03-23   5.449199   123.163120    8791.682184      3.454087  1218.259758   \n2007-03-26   5.417642   122.082208    8684.743474      3.451620  1209.870987   \n...               ...          ...            ...           ...          ...   \n2021-12-21  15.705693   410.716699   14278.515069      4.205804  1458.285692   \n2021-12-22  15.747735   410.919826   14217.417139      4.212684  1459.400153   \n2021-12-23  15.698941   410.985541   14176.992998      4.198359  1459.198669   \n2021-12-29  15.697661   412.512865   14236.868455      4.179208  1459.534588   \n2021-12-30  15.691901   410.707457   14250.144317      4.172408  1458.300277   \n\n            USD/Philippines  USD/Thailand  USD/Israel  USD/Switzerland  \n2007-03-20        48.196906     32.490237    4.201412         1.211926  \n2007-03-21        47.765505     31.887454    4.181058         1.208374  \n2007-03-22        47.786861     31.637918    4.183666         1.213889  \n2007-03-23        47.861924     32.061367    4.182447         1.217568  \n2007-03-26        47.907291     32.197720    4.194494         1.215347  \n...                     ...           ...         ...              ...  \n2021-12-21        49.877442     33.654941    3.163542         0.923365  \n2021-12-22        50.203031     33.680573    3.164185         0.920553  \n2021-12-23        50.078973     33.492546    3.152118         0.919119  \n2021-12-29        51.013314     33.478768    3.117419         0.914282  \n2021-12-30        51.247719     33.303555    3.102259         0.913347  \n\n[3595 rows x 41 columns]",
      "text/html": "<div>\n<style scoped>\n    .dataframe tbody tr th:only-of-type {\n        vertical-align: middle;\n    }\n\n    .dataframe tbody tr th {\n        vertical-align: top;\n    }\n\n    .dataframe thead th {\n        text-align: right;\n    }\n</style>\n<table border=\"1\" class=\"dataframe\">\n  <thead>\n    <tr style=\"text-align: right;\">\n      <th></th>\n      <th>ItraxxMain</th>\n      <th>ItraxxXover</th>\n      <th>CDX_IG</th>\n      <th>SPX_Price</th>\n      <th>SPX_Volume</th>\n      <th>EuSt_Price</th>\n      <th>EuSt_Volume</th>\n      <th>Oil (WTI-Oklahoma)</th>\n      <th>Oil (Brent-EU)</th>\n      <th>Conventional Gasoline (NY Harbor)</th>\n      <th>...</th>\n      <th>USD/South Africa</th>\n      <th>USD/Egypt</th>\n      <th>USD/Nigeria</th>\n      <th>USD/Indonesia</th>\n      <th>USD/Malaysia</th>\n      <th>USD/Iraq</th>\n      <th>USD/Philippines</th>\n      <th>USD/Thailand</th>\n      <th>USD/Israel</th>\n      <th>USD/Switzerland</th>\n    </tr>\n  </thead>\n  <tbody>\n    <tr>\n      <th>2007-03-20</th>\n      <td>100.0000</td>\n      <td>100.0000</td>\n      <td>100.0000</td>\n      <td>1410.94</td>\n      <td>1.182479e+09</td>\n      <td>4079.5200</td>\n      <td>9.134466e+08</td>\n      <td>56.41</td>\n      <td>60.11</td>\n      <td>1.914</td>\n      <td>...</td>\n      <td>7.381947</td>\n      <td>5.446981</td>\n      <td>122.679483</td>\n      <td>8775.533193</td>\n      <td>3.491439</td>\n      <td>1214.441274</td>\n      <td>48.196906</td>\n      <td>32.490237</td>\n      <td>4.201412</td>\n      <td>1.211926</td>\n    </tr>\n    <tr>\n      <th>2007-03-21</th>\n      <td>100.0287</td>\n      <td>100.2951</td>\n      <td>100.0850</td>\n      <td>1435.04</td>\n      <td>1.399847e+09</td>\n      <td>4078.2900</td>\n      <td>8.624504e+08</td>\n      <td>56.98</td>\n      <td>60.18</td>\n      <td>1.910</td>\n      <td>...</td>\n      <td>7.267184</td>\n      <td>5.407717</td>\n      <td>122.225539</td>\n      <td>8724.755430</td>\n      <td>3.446974</td>\n      <td>1208.985745</td>\n      <td>47.765505</td>\n      <td>31.887454</td>\n      <td>4.181058</td>\n      <td>1.208374</td>\n    </tr>\n    <tr>\n      <th>2007-03-22</th>\n      <td>100.0833</td>\n      <td>100.8037</td>\n      <td>100.1147</td>\n      <td>1434.54</td>\n      <td>1.286669e+09</td>\n      <td>4170.0801</td>\n      <td>1.174437e+09</td>\n      <td>60.21</td>\n      <td>61.57</td>\n      <td>1.914</td>\n      <td>...</td>\n      <td>7.197165</td>\n      <td>5.434078</td>\n      <td>122.821359</td>\n      <td>8767.286486</td>\n      <td>3.465127</td>\n      <td>1214.879256</td>\n      <td>47.786861</td>\n      <td>31.637918</td>\n      <td>4.183666</td>\n      <td>1.213889</td>\n    </tr>\n    <tr>\n      <th>2007-03-23</th>\n      <td>100.1090</td>\n      <td>100.8924</td>\n      <td>100.1108</td>\n      <td>1436.11</td>\n      <td>1.122459e+09</td>\n      <td>4191.5801</td>\n      <td>9.219071e+08</td>\n      <td>61.07</td>\n      <td>63.10</td>\n      <td>1.930</td>\n      <td>...</td>\n      <td>7.215838</td>\n      <td>5.449199</td>\n      <td>123.163120</td>\n      <td>8791.682184</td>\n      <td>3.454087</td>\n      <td>1218.259758</td>\n      <td>47.861924</td>\n      <td>32.061367</td>\n      <td>4.182447</td>\n      <td>1.217568</td>\n    </tr>\n    <tr>\n      <th>2007-03-26</th>\n      <td>100.1063</td>\n      <td>100.7493</td>\n      <td>100.0683</td>\n      <td>1437.50</td>\n      <td>1.187999e+09</td>\n      <td>4142.1099</td>\n      <td>9.893587e+08</td>\n      <td>61.77</td>\n      <td>64.43</td>\n      <td>2.000</td>\n      <td>...</td>\n      <td>7.212871</td>\n      <td>5.417642</td>\n      <td>122.082208</td>\n      <td>8684.743474</td>\n      <td>3.451620</td>\n      <td>1209.870987</td>\n      <td>47.907291</td>\n      <td>32.197720</td>\n      <td>4.194494</td>\n      <td>1.215347</td>\n    </tr>\n    <tr>\n      <th>...</th>\n      <td>...</td>\n      <td>...</td>\n      <td>...</td>\n      <td>...</td>\n      <td>...</td>\n      <td>...</td>\n      <td>...</td>\n      <td>...</td>\n      <td>...</td>\n      <td>...</td>\n      <td>...</td>\n      <td>...</td>\n      <td>...</td>\n      <td>...</td>\n      <td>...</td>\n      <td>...</td>\n      <td>...</td>\n      <td>...</td>\n      <td>...</td>\n      <td>...</td>\n      <td>...</td>\n    </tr>\n    <tr>\n      <th>2021-12-21</th>\n      <td>116.2111</td>\n      <td>218.0884</td>\n      <td>112.2719</td>\n      <td>4649.23</td>\n      <td>6.201414e+08</td>\n      <td>4174.9902</td>\n      <td>2.725863e+08</td>\n      <td>71.10</td>\n      <td>72.85</td>\n      <td>2.207</td>\n      <td>...</td>\n      <td>15.837798</td>\n      <td>15.705693</td>\n      <td>410.716699</td>\n      <td>14278.515069</td>\n      <td>4.205804</td>\n      <td>1458.285692</td>\n      <td>49.877442</td>\n      <td>33.654941</td>\n      <td>3.163542</td>\n      <td>0.923365</td>\n    </tr>\n    <tr>\n      <th>2021-12-22</th>\n      <td>116.2445</td>\n      <td>218.5824</td>\n      <td>112.3261</td>\n      <td>4696.56</td>\n      <td>4.564783e+08</td>\n      <td>4217.0601</td>\n      <td>1.945563e+08</td>\n      <td>72.82</td>\n      <td>74.69</td>\n      <td>2.222</td>\n      <td>...</td>\n      <td>15.719020</td>\n      <td>15.747735</td>\n      <td>410.919826</td>\n      <td>14217.417139</td>\n      <td>4.212684</td>\n      <td>1459.400153</td>\n      <td>50.203031</td>\n      <td>33.680573</td>\n      <td>3.164185</td>\n      <td>0.920553</td>\n    </tr>\n    <tr>\n      <th>2021-12-23</th>\n      <td>116.3149</td>\n      <td>219.2426</td>\n      <td>112.3691</td>\n      <td>4725.79</td>\n      <td>4.332652e+08</td>\n      <td>4265.8599</td>\n      <td>2.421080e+08</td>\n      <td>73.89</td>\n      <td>76.26</td>\n      <td>2.257</td>\n      <td>...</td>\n      <td>15.650105</td>\n      <td>15.698941</td>\n      <td>410.985541</td>\n      <td>14176.992998</td>\n      <td>4.198359</td>\n      <td>1459.198669</td>\n      <td>50.078973</td>\n      <td>33.492546</td>\n      <td>3.152118</td>\n      <td>0.919119</td>\n    </tr>\n    <tr>\n      <th>2021-12-29</th>\n      <td>116.3138</td>\n      <td>219.0620</td>\n      <td>112.4060</td>\n      <td>4793.06</td>\n      <td>3.660017e+08</td>\n      <td>4284.8301</td>\n      <td>1.666996e+08</td>\n      <td>76.58</td>\n      <td>78.63</td>\n      <td>2.317</td>\n      <td>...</td>\n      <td>15.921102</td>\n      <td>15.697661</td>\n      <td>412.512865</td>\n      <td>14236.868455</td>\n      <td>4.179208</td>\n      <td>1459.534588</td>\n      <td>51.013314</td>\n      <td>33.478768</td>\n      <td>3.117419</td>\n      <td>0.914282</td>\n    </tr>\n    <tr>\n      <th>2021-12-30</th>\n      <td>116.3518</td>\n      <td>219.3878</td>\n      <td>112.3916</td>\n      <td>4778.73</td>\n      <td>3.315328e+08</td>\n      <td>4306.0698</td>\n      <td>1.870611e+08</td>\n      <td>76.83</td>\n      <td>78.61</td>\n      <td>2.322</td>\n      <td>...</td>\n      <td>15.921991</td>\n      <td>15.691901</td>\n      <td>410.707457</td>\n      <td>14250.144317</td>\n      <td>4.172408</td>\n      <td>1458.300277</td>\n      <td>51.247719</td>\n      <td>33.303555</td>\n      <td>3.102259</td>\n      <td>0.913347</td>\n    </tr>\n  </tbody>\n</table>\n<p>3595 rows × 41 columns</p>\n</div>"
     },
     "execution_count": 6,
     "metadata": {},
     "output_type": "execute_result"
    }
   ],
   "source": [
    "df"
   ],
   "metadata": {
    "collapsed": false
   }
  },
  {
   "cell_type": "code",
   "execution_count": 7,
   "outputs": [
    {
     "data": {
      "text/plain": "            Open   Close\n                        \n01/03/07   83.27   83.92\n01/04/07   83.91   84.32\n01/05/07   84.29   84.63\n01/08/07   84.64   84.60\n01/09/07   84.49   84.74\n...          ...     ...\n02/01/23  102.09  101.22\n02/02/23  100.85  101.75\n02/03/23  101.83  102.92\n02/06/23  102.99  103.62\n02/07/23  103.54  103.43\n\n[4181 rows x 2 columns]",
      "text/html": "<div>\n<style scoped>\n    .dataframe tbody tr th:only-of-type {\n        vertical-align: middle;\n    }\n\n    .dataframe tbody tr th {\n        vertical-align: top;\n    }\n\n    .dataframe thead th {\n        text-align: right;\n    }\n</style>\n<table border=\"1\" class=\"dataframe\">\n  <thead>\n    <tr style=\"text-align: right;\">\n      <th></th>\n      <th>Open</th>\n      <th>Close</th>\n    </tr>\n    <tr>\n      <th></th>\n      <th></th>\n      <th></th>\n    </tr>\n  </thead>\n  <tbody>\n    <tr>\n      <th>01/03/07</th>\n      <td>83.27</td>\n      <td>83.92</td>\n    </tr>\n    <tr>\n      <th>01/04/07</th>\n      <td>83.91</td>\n      <td>84.32</td>\n    </tr>\n    <tr>\n      <th>01/05/07</th>\n      <td>84.29</td>\n      <td>84.63</td>\n    </tr>\n    <tr>\n      <th>01/08/07</th>\n      <td>84.64</td>\n      <td>84.60</td>\n    </tr>\n    <tr>\n      <th>01/09/07</th>\n      <td>84.49</td>\n      <td>84.74</td>\n    </tr>\n    <tr>\n      <th>...</th>\n      <td>...</td>\n      <td>...</td>\n    </tr>\n    <tr>\n      <th>02/01/23</th>\n      <td>102.09</td>\n      <td>101.22</td>\n    </tr>\n    <tr>\n      <th>02/02/23</th>\n      <td>100.85</td>\n      <td>101.75</td>\n    </tr>\n    <tr>\n      <th>02/03/23</th>\n      <td>101.83</td>\n      <td>102.92</td>\n    </tr>\n    <tr>\n      <th>02/06/23</th>\n      <td>102.99</td>\n      <td>103.62</td>\n    </tr>\n    <tr>\n      <th>02/07/23</th>\n      <td>103.54</td>\n      <td>103.43</td>\n    </tr>\n  </tbody>\n</table>\n<p>4181 rows × 2 columns</p>\n</div>"
     },
     "execution_count": 7,
     "metadata": {},
     "output_type": "execute_result"
    }
   ],
   "source": [
    "# data from here https://www.wsj.com/market-data/quotes/index/DXY/historical-prices\n",
    "DXY = pd.read_csv('03-DXY_Data.csv').set_index('Date')[::-1][[' Open', ' Close']]\n",
    "DXY.index.names = ['']\n",
    "DXY"
   ],
   "metadata": {
    "collapsed": false
   }
  },
  {
   "cell_type": "code",
   "execution_count": 8,
   "outputs": [],
   "source": [
    "tmp = DXY.index[0]"
   ],
   "metadata": {
    "collapsed": false
   }
  },
  {
   "cell_type": "code",
   "execution_count": 9,
   "outputs": [
    {
     "data": {
      "text/plain": "'2007-01-03'"
     },
     "execution_count": 9,
     "metadata": {},
     "output_type": "execute_result"
    }
   ],
   "source": [
    "month = tmp[:2]\n",
    "day = tmp[3:5]\n",
    "year = '20' + tmp[6:8]\n",
    "new_tmp = year + '-' + month + '-' + day\n",
    "new_tmp"
   ],
   "metadata": {
    "collapsed": false
   }
  },
  {
   "cell_type": "code",
   "execution_count": 10,
   "outputs": [],
   "source": [
    "norm_index = []\n",
    "for tmp in DXY.index:\n",
    "    month = tmp[:2]\n",
    "    day = tmp[3:5]\n",
    "    year = '20' + tmp[6:8]\n",
    "    norm_index.append(year + '-' + month + '-' + day)"
   ],
   "metadata": {
    "collapsed": false
   }
  },
  {
   "cell_type": "code",
   "execution_count": 11,
   "outputs": [
    {
     "data": {
      "text/plain": "              Open   Close\n2007-01-03   83.27   83.92\n2007-01-04   83.91   84.32\n2007-01-05   84.29   84.63\n2007-01-08   84.64   84.60\n2007-01-09   84.49   84.74\n...            ...     ...\n2023-02-01  102.09  101.22\n2023-02-02  100.85  101.75\n2023-02-03  101.83  102.92\n2023-02-06  102.99  103.62\n2023-02-07  103.54  103.43\n\n[4181 rows x 2 columns]",
      "text/html": "<div>\n<style scoped>\n    .dataframe tbody tr th:only-of-type {\n        vertical-align: middle;\n    }\n\n    .dataframe tbody tr th {\n        vertical-align: top;\n    }\n\n    .dataframe thead th {\n        text-align: right;\n    }\n</style>\n<table border=\"1\" class=\"dataframe\">\n  <thead>\n    <tr style=\"text-align: right;\">\n      <th></th>\n      <th>Open</th>\n      <th>Close</th>\n    </tr>\n  </thead>\n  <tbody>\n    <tr>\n      <th>2007-01-03</th>\n      <td>83.27</td>\n      <td>83.92</td>\n    </tr>\n    <tr>\n      <th>2007-01-04</th>\n      <td>83.91</td>\n      <td>84.32</td>\n    </tr>\n    <tr>\n      <th>2007-01-05</th>\n      <td>84.29</td>\n      <td>84.63</td>\n    </tr>\n    <tr>\n      <th>2007-01-08</th>\n      <td>84.64</td>\n      <td>84.60</td>\n    </tr>\n    <tr>\n      <th>2007-01-09</th>\n      <td>84.49</td>\n      <td>84.74</td>\n    </tr>\n    <tr>\n      <th>...</th>\n      <td>...</td>\n      <td>...</td>\n    </tr>\n    <tr>\n      <th>2023-02-01</th>\n      <td>102.09</td>\n      <td>101.22</td>\n    </tr>\n    <tr>\n      <th>2023-02-02</th>\n      <td>100.85</td>\n      <td>101.75</td>\n    </tr>\n    <tr>\n      <th>2023-02-03</th>\n      <td>101.83</td>\n      <td>102.92</td>\n    </tr>\n    <tr>\n      <th>2023-02-06</th>\n      <td>102.99</td>\n      <td>103.62</td>\n    </tr>\n    <tr>\n      <th>2023-02-07</th>\n      <td>103.54</td>\n      <td>103.43</td>\n    </tr>\n  </tbody>\n</table>\n<p>4181 rows × 2 columns</p>\n</div>"
     },
     "execution_count": 11,
     "metadata": {},
     "output_type": "execute_result"
    }
   ],
   "source": [
    "DXY.index = norm_index\n",
    "DXY"
   ],
   "metadata": {
    "collapsed": false
   }
  },
  {
   "cell_type": "code",
   "execution_count": 12,
   "outputs": [
    {
     "data": {
      "text/plain": "            DXY_Open  DXY_Close\n2007-01-03     83.27      83.92\n2007-01-04     83.91      84.32\n2007-01-05     84.29      84.63\n2007-01-08     84.64      84.60\n2007-01-09     84.49      84.74\n...              ...        ...\n2023-02-01    102.09     101.22\n2023-02-02    100.85     101.75\n2023-02-03    101.83     102.92\n2023-02-06    102.99     103.62\n2023-02-07    103.54     103.43\n\n[4181 rows x 2 columns]",
      "text/html": "<div>\n<style scoped>\n    .dataframe tbody tr th:only-of-type {\n        vertical-align: middle;\n    }\n\n    .dataframe tbody tr th {\n        vertical-align: top;\n    }\n\n    .dataframe thead th {\n        text-align: right;\n    }\n</style>\n<table border=\"1\" class=\"dataframe\">\n  <thead>\n    <tr style=\"text-align: right;\">\n      <th></th>\n      <th>DXY_Open</th>\n      <th>DXY_Close</th>\n    </tr>\n  </thead>\n  <tbody>\n    <tr>\n      <th>2007-01-03</th>\n      <td>83.27</td>\n      <td>83.92</td>\n    </tr>\n    <tr>\n      <th>2007-01-04</th>\n      <td>83.91</td>\n      <td>84.32</td>\n    </tr>\n    <tr>\n      <th>2007-01-05</th>\n      <td>84.29</td>\n      <td>84.63</td>\n    </tr>\n    <tr>\n      <th>2007-01-08</th>\n      <td>84.64</td>\n      <td>84.60</td>\n    </tr>\n    <tr>\n      <th>2007-01-09</th>\n      <td>84.49</td>\n      <td>84.74</td>\n    </tr>\n    <tr>\n      <th>...</th>\n      <td>...</td>\n      <td>...</td>\n    </tr>\n    <tr>\n      <th>2023-02-01</th>\n      <td>102.09</td>\n      <td>101.22</td>\n    </tr>\n    <tr>\n      <th>2023-02-02</th>\n      <td>100.85</td>\n      <td>101.75</td>\n    </tr>\n    <tr>\n      <th>2023-02-03</th>\n      <td>101.83</td>\n      <td>102.92</td>\n    </tr>\n    <tr>\n      <th>2023-02-06</th>\n      <td>102.99</td>\n      <td>103.62</td>\n    </tr>\n    <tr>\n      <th>2023-02-07</th>\n      <td>103.54</td>\n      <td>103.43</td>\n    </tr>\n  </tbody>\n</table>\n<p>4181 rows × 2 columns</p>\n</div>"
     },
     "execution_count": 12,
     "metadata": {},
     "output_type": "execute_result"
    }
   ],
   "source": [
    "DXY.columns = ['DXY_Open', 'DXY_Close']\n",
    "DXY"
   ],
   "metadata": {
    "collapsed": false
   }
  },
  {
   "cell_type": "code",
   "execution_count": 13,
   "outputs": [],
   "source": [
    "df = df.merge(DXY, left_index=True, right_index=True)"
   ],
   "metadata": {
    "collapsed": false
   }
  },
  {
   "cell_type": "code",
   "execution_count": 14,
   "outputs": [],
   "source": [
    "df.to_csv('03_result.csv')"
   ],
   "metadata": {
    "collapsed": false
   }
  },
  {
   "cell_type": "code",
   "execution_count": 14,
   "outputs": [],
   "source": [],
   "metadata": {
    "collapsed": false
   }
  }
 ],
 "metadata": {
  "kernelspec": {
   "display_name": "Python 3",
   "language": "python",
   "name": "python3"
  },
  "language_info": {
   "codemirror_mode": {
    "name": "ipython",
    "version": 2
   },
   "file_extension": ".py",
   "mimetype": "text/x-python",
   "name": "python",
   "nbconvert_exporter": "python",
   "pygments_lexer": "ipython2",
   "version": "2.7.6"
  }
 },
 "nbformat": 4,
 "nbformat_minor": 0
}
