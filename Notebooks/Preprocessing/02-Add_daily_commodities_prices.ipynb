{
 "cells": [
  {
   "cell_type": "code",
   "execution_count": 1,
   "metadata": {
    "collapsed": true
   },
   "outputs": [],
   "source": [
    "import pandas as pd"
   ]
  },
  {
   "cell_type": "code",
   "execution_count": 2,
   "outputs": [],
   "source": [
    "big_df = pd.read_csv('01_result.csv')"
   ],
   "metadata": {
    "collapsed": false
   }
  },
  {
   "cell_type": "code",
   "execution_count": 3,
   "outputs": [
    {
     "data": {
      "text/plain": "            ItraxxMain  ItraxxXover    CDX_IG  SPX_Price    SPX_Volume  \\\nDate                                                                     \n2007-03-20    100.0000     100.0000  100.0000    1410.94  1.182479e+09   \n2007-03-21    100.0287     100.2951  100.0850    1435.04  1.399847e+09   \n2007-03-22    100.0833     100.8037  100.1147    1434.54  1.286669e+09   \n2007-03-23    100.1090     100.8924  100.1108    1436.11  1.122459e+09   \n2007-03-26    100.1063     100.7493  100.0683    1437.50  1.187999e+09   \n...                ...          ...       ...        ...           ...   \n2022-09-14    114.0442     200.6703  111.2597    3946.01  6.911695e+08   \n2022-09-15    113.9900     199.9603  111.0778    3901.35  6.873780e+08   \n2022-09-16    113.7744     198.5412  111.0792    3873.33  2.094243e+09   \n2022-09-20    113.6542     197.7231  111.0292    3855.93  6.069292e+08   \n2022-09-21    113.5834     197.6984  110.9141    3789.93  6.507671e+08   \n\n            EuSt_Price   EuSt_Volume  \nDate                                  \n2007-03-20   4079.5200  9.134466e+08  \n2007-03-21   4078.2900  8.624504e+08  \n2007-03-22   4170.0801  1.174437e+09  \n2007-03-23   4191.5801  9.219071e+08  \n2007-03-26   4142.1099  9.893587e+08  \n...                ...           ...  \n2022-09-14   3567.5601  3.002243e+08  \n2022-09-15   3541.7900  4.382947e+08  \n2022-09-16   3500.4099  6.839488e+08  \n2022-09-20   3467.0901  3.551371e+08  \n2022-09-21   3491.8701  2.827494e+08  \n\n[3794 rows x 7 columns]",
      "text/html": "<div>\n<style scoped>\n    .dataframe tbody tr th:only-of-type {\n        vertical-align: middle;\n    }\n\n    .dataframe tbody tr th {\n        vertical-align: top;\n    }\n\n    .dataframe thead th {\n        text-align: right;\n    }\n</style>\n<table border=\"1\" class=\"dataframe\">\n  <thead>\n    <tr style=\"text-align: right;\">\n      <th></th>\n      <th>ItraxxMain</th>\n      <th>ItraxxXover</th>\n      <th>CDX_IG</th>\n      <th>SPX_Price</th>\n      <th>SPX_Volume</th>\n      <th>EuSt_Price</th>\n      <th>EuSt_Volume</th>\n    </tr>\n    <tr>\n      <th>Date</th>\n      <th></th>\n      <th></th>\n      <th></th>\n      <th></th>\n      <th></th>\n      <th></th>\n      <th></th>\n    </tr>\n  </thead>\n  <tbody>\n    <tr>\n      <th>2007-03-20</th>\n      <td>100.0000</td>\n      <td>100.0000</td>\n      <td>100.0000</td>\n      <td>1410.94</td>\n      <td>1.182479e+09</td>\n      <td>4079.5200</td>\n      <td>9.134466e+08</td>\n    </tr>\n    <tr>\n      <th>2007-03-21</th>\n      <td>100.0287</td>\n      <td>100.2951</td>\n      <td>100.0850</td>\n      <td>1435.04</td>\n      <td>1.399847e+09</td>\n      <td>4078.2900</td>\n      <td>8.624504e+08</td>\n    </tr>\n    <tr>\n      <th>2007-03-22</th>\n      <td>100.0833</td>\n      <td>100.8037</td>\n      <td>100.1147</td>\n      <td>1434.54</td>\n      <td>1.286669e+09</td>\n      <td>4170.0801</td>\n      <td>1.174437e+09</td>\n    </tr>\n    <tr>\n      <th>2007-03-23</th>\n      <td>100.1090</td>\n      <td>100.8924</td>\n      <td>100.1108</td>\n      <td>1436.11</td>\n      <td>1.122459e+09</td>\n      <td>4191.5801</td>\n      <td>9.219071e+08</td>\n    </tr>\n    <tr>\n      <th>2007-03-26</th>\n      <td>100.1063</td>\n      <td>100.7493</td>\n      <td>100.0683</td>\n      <td>1437.50</td>\n      <td>1.187999e+09</td>\n      <td>4142.1099</td>\n      <td>9.893587e+08</td>\n    </tr>\n    <tr>\n      <th>...</th>\n      <td>...</td>\n      <td>...</td>\n      <td>...</td>\n      <td>...</td>\n      <td>...</td>\n      <td>...</td>\n      <td>...</td>\n    </tr>\n    <tr>\n      <th>2022-09-14</th>\n      <td>114.0442</td>\n      <td>200.6703</td>\n      <td>111.2597</td>\n      <td>3946.01</td>\n      <td>6.911695e+08</td>\n      <td>3567.5601</td>\n      <td>3.002243e+08</td>\n    </tr>\n    <tr>\n      <th>2022-09-15</th>\n      <td>113.9900</td>\n      <td>199.9603</td>\n      <td>111.0778</td>\n      <td>3901.35</td>\n      <td>6.873780e+08</td>\n      <td>3541.7900</td>\n      <td>4.382947e+08</td>\n    </tr>\n    <tr>\n      <th>2022-09-16</th>\n      <td>113.7744</td>\n      <td>198.5412</td>\n      <td>111.0792</td>\n      <td>3873.33</td>\n      <td>2.094243e+09</td>\n      <td>3500.4099</td>\n      <td>6.839488e+08</td>\n    </tr>\n    <tr>\n      <th>2022-09-20</th>\n      <td>113.6542</td>\n      <td>197.7231</td>\n      <td>111.0292</td>\n      <td>3855.93</td>\n      <td>6.069292e+08</td>\n      <td>3467.0901</td>\n      <td>3.551371e+08</td>\n    </tr>\n    <tr>\n      <th>2022-09-21</th>\n      <td>113.5834</td>\n      <td>197.6984</td>\n      <td>110.9141</td>\n      <td>3789.93</td>\n      <td>6.507671e+08</td>\n      <td>3491.8701</td>\n      <td>2.827494e+08</td>\n    </tr>\n  </tbody>\n</table>\n<p>3794 rows × 7 columns</p>\n</div>"
     },
     "execution_count": 3,
     "metadata": {},
     "output_type": "execute_result"
    }
   ],
   "source": [
    "big_df = big_df.set_index('Date')\n",
    "big_df"
   ],
   "metadata": {
    "collapsed": false
   }
  },
  {
   "cell_type": "code",
   "execution_count": 4,
   "outputs": [],
   "source": [
    "import requests\n",
    "\n",
    "r_dict = {}\n",
    "\n",
    "# Data from here https://www.eia.gov/dnav/pet/pet_pri_spt_s1_d.htm\n",
    "\n",
    "names_api = ['RWTC', 'RBRTE', 'EER_EPMRU_PF4_Y35NY_DPG', 'EER_EPMRU_PF4_RGC_DPG', 'EER_EPMRR_PF4_Y05LA_DPG', 'EER_EPD2F_PF4_Y35NY_DPG', 'EER_EPD2DXL0_PF4_Y35NY_DPG', 'EER_EPD2DXL0_PF4_RGC_DPG', 'EER_EPD2DC_PF4_Y05LA_DPG', 'EER_EPJK_PF4_RGC_DPG', 'EER_EPLLPA_PF4_Y44MB_DPG']\n",
    "\n",
    "names_normal = ['Oil (WTI-Oklahoma)', 'Oil (Brent-EU)', 'Conventional Gasoline (NY Harbor)', 'Conventional Gasoline (US Gulf Coast)', 'RBOB Regular Gasoline (LA)', 'No. 2 Heating Oil (NY Harbor)', 'Ultra-Low-Sulfur No. 2 Diesel Fuel (NY Harbor)', 'Ultra-Low-Sulfur No. 2 Diesel Fuel (US Gulf Coast)', 'Ultra-Low-Sulfur No. 2 Diesel Fuel (LA)', 'Kerosene-Type Jet Fuel (US Gulf Coast)', 'Propane (Mont Belvieu, TX)']\n",
    "\n",
    "for name_api, name_normal in zip(names_api, names_normal):\n",
    "    r = requests.get('https://api.eia.gov/v2/petroleum/pri/spt/data/?frequency=daily&data[0]=value&facets[series][]=' + name_api + '&start=2006-01-01&end=2022-01-01&sort[0][column]=period&sort[0][direction]=desc&offset=0&length=5000&api_key=yvLXTEFAC78NMSVqGcM6MqgHXS1DJTFCozdZn3TH')\n",
    "\n",
    "    r_dict[name_normal] = pd.DataFrame(r.json()['response']['data'])[::-1]"
   ],
   "metadata": {
    "collapsed": false
   }
  },
  {
   "cell_type": "code",
   "execution_count": 5,
   "outputs": [
    {
     "data": {
      "text/plain": "'Oil (WTI-Oklahoma)'"
     },
     "metadata": {},
     "output_type": "display_data"
    },
    {
     "data": {
      "text/plain": "'Oil (Brent-EU)'"
     },
     "metadata": {},
     "output_type": "display_data"
    },
    {
     "data": {
      "text/plain": "'Conventional Gasoline (NY Harbor)'"
     },
     "metadata": {},
     "output_type": "display_data"
    },
    {
     "data": {
      "text/plain": "'Conventional Gasoline (US Gulf Coast)'"
     },
     "metadata": {},
     "output_type": "display_data"
    },
    {
     "data": {
      "text/plain": "'RBOB Regular Gasoline (LA)'"
     },
     "metadata": {},
     "output_type": "display_data"
    },
    {
     "data": {
      "text/plain": "'No. 2 Heating Oil (NY Harbor)'"
     },
     "metadata": {},
     "output_type": "display_data"
    },
    {
     "data": {
      "text/plain": "'Ultra-Low-Sulfur No. 2 Diesel Fuel (NY Harbor)'"
     },
     "metadata": {},
     "output_type": "display_data"
    },
    {
     "data": {
      "text/plain": "'Ultra-Low-Sulfur No. 2 Diesel Fuel (US Gulf Coast)'"
     },
     "metadata": {},
     "output_type": "display_data"
    },
    {
     "data": {
      "text/plain": "'Ultra-Low-Sulfur No. 2 Diesel Fuel (LA)'"
     },
     "metadata": {},
     "output_type": "display_data"
    },
    {
     "data": {
      "text/plain": "'Kerosene-Type Jet Fuel (US Gulf Coast)'"
     },
     "metadata": {},
     "output_type": "display_data"
    },
    {
     "data": {
      "text/plain": "'Propane (Mont Belvieu, TX)'"
     },
     "metadata": {},
     "output_type": "display_data"
    }
   ],
   "source": [
    "for name in names_normal:\n",
    "    display(name)\n",
    "    df = r_dict[name]\n",
    "    df = df[['period', 'value']]\n",
    "    df = df.set_index('period')\n",
    "    df.columns = [name]\n",
    "\n",
    "    big_df = big_df.merge(df, left_index=True, right_index=True)"
   ],
   "metadata": {
    "collapsed": false
   }
  },
  {
   "cell_type": "code",
   "execution_count": 6,
   "outputs": [
    {
     "data": {
      "text/plain": "            ItraxxMain  ItraxxXover    CDX_IG  SPX_Price    SPX_Volume  \\\n2007-03-20    100.0000     100.0000  100.0000    1410.94  1.182479e+09   \n2007-03-21    100.0287     100.2951  100.0850    1435.04  1.399847e+09   \n2007-03-22    100.0833     100.8037  100.1147    1434.54  1.286669e+09   \n2007-03-23    100.1090     100.8924  100.1108    1436.11  1.122459e+09   \n2007-03-26    100.1063     100.7493  100.0683    1437.50  1.187999e+09   \n...                ...          ...       ...        ...           ...   \n2021-12-21    116.2111     218.0884  112.2719    4649.23  6.201414e+08   \n2021-12-22    116.2445     218.5824  112.3261    4696.56  4.564783e+08   \n2021-12-23    116.3149     219.2426  112.3691    4725.79  4.332652e+08   \n2021-12-29    116.3138     219.0620  112.4060    4793.06  3.660017e+08   \n2021-12-30    116.3518     219.3878  112.3916    4778.73  3.315328e+08   \n\n            EuSt_Price   EuSt_Volume  Oil (WTI-Oklahoma)  Oil (Brent-EU)  \\\n2007-03-20   4079.5200  9.134466e+08               56.41           60.11   \n2007-03-21   4078.2900  8.624504e+08               56.98           60.18   \n2007-03-22   4170.0801  1.174437e+09               60.21           61.57   \n2007-03-23   4191.5801  9.219071e+08               61.07           63.10   \n2007-03-26   4142.1099  9.893587e+08               61.77           64.43   \n...                ...           ...                 ...             ...   \n2021-12-21   4174.9902  2.725863e+08               71.10           72.85   \n2021-12-22   4217.0601  1.945563e+08               72.82           74.69   \n2021-12-23   4265.8599  2.421080e+08               73.89           76.26   \n2021-12-29   4284.8301  1.666996e+08               76.58           78.63   \n2021-12-30   4306.0698  1.870611e+08               76.83           78.61   \n\n            Conventional Gasoline (NY Harbor)  \\\n2007-03-20                              1.914   \n2007-03-21                              1.910   \n2007-03-22                              1.914   \n2007-03-23                              1.930   \n2007-03-26                              2.000   \n...                                       ...   \n2021-12-21                              2.207   \n2021-12-22                              2.222   \n2021-12-23                              2.257   \n2021-12-29                              2.317   \n2021-12-30                              2.322   \n\n            Conventional Gasoline (US Gulf Coast)  RBOB Regular Gasoline (LA)  \\\n2007-03-20                                  1.842                       2.372   \n2007-03-21                                  1.837                       2.375   \n2007-03-22                                  1.847                       2.304   \n2007-03-23                                  1.875                       2.258   \n2007-03-26                                  1.923                       2.531   \n...                                           ...                         ...   \n2021-12-21                                  2.137                       2.282   \n2021-12-22                                  2.154                       2.287   \n2021-12-23                                  2.197                       2.372   \n2021-12-29                                  2.260                       2.492   \n2021-12-30                                  2.264                       2.487   \n\n            No. 2 Heating Oil (NY Harbor)  \\\n2007-03-20                          1.678   \n2007-03-21                          1.673   \n2007-03-22                          1.719   \n2007-03-23                          1.711   \n2007-03-26                          1.771   \n...                                   ...   \n2021-12-21                          2.144   \n2021-12-22                          2.192   \n2021-12-23                          2.212   \n2021-12-29                          2.259   \n2021-12-30                          2.263   \n\n            Ultra-Low-Sulfur No. 2 Diesel Fuel (NY Harbor)  \\\n2007-03-20                                           1.828   \n2007-03-21                                           1.823   \n2007-03-22                                           1.891   \n2007-03-23                                           1.874   \n2007-03-26                                           1.953   \n...                                                    ...   \n2021-12-21                                           2.263   \n2021-12-22                                           2.311   \n2021-12-23                                           2.331   \n2021-12-29                                           2.376   \n2021-12-30                                           2.379   \n\n            Ultra-Low-Sulfur No. 2 Diesel Fuel (US Gulf Coast)  \\\n2007-03-20                                              1.848    \n2007-03-21                                              1.843    \n2007-03-22                                              1.976    \n2007-03-23                                              1.944    \n2007-03-26                                              2.123    \n...                                                       ...    \n2021-12-21                                              2.209    \n2021-12-22                                              2.257    \n2021-12-23                                              2.290    \n2021-12-29                                              2.319    \n2021-12-30                                              2.323    \n\n            Ultra-Low-Sulfur No. 2 Diesel Fuel (LA)  \\\n2007-03-20                                    1.993   \n2007-03-21                                    2.001   \n2007-03-22                                    2.026   \n2007-03-23                                    2.009   \n2007-03-26                                    2.083   \n...                                             ...   \n2021-12-21                                    2.299   \n2021-12-22                                    2.347   \n2021-12-23                                    2.392   \n2021-12-29                                    2.477   \n2021-12-30                                    2.480   \n\n            Kerosene-Type Jet Fuel (US Gulf Coast)  Propane (Mont Belvieu, TX)  \n2007-03-20                                   1.793                       1.023  \n2007-03-21                                   1.788                       1.035  \n2007-03-22                                   1.829                       1.036  \n2007-03-23                                   1.834                       1.039  \n2007-03-26                                   1.904                       1.059  \n...                                            ...                         ...  \n2021-12-21                                   2.094                       1.003  \n2021-12-22                                   2.142                       1.025  \n2021-12-23                                   2.172                       1.055  \n2021-12-29                                   2.209                       1.118  \n2021-12-30                                   2.213                       1.123  \n\n[3598 rows x 18 columns]",
      "text/html": "<div>\n<style scoped>\n    .dataframe tbody tr th:only-of-type {\n        vertical-align: middle;\n    }\n\n    .dataframe tbody tr th {\n        vertical-align: top;\n    }\n\n    .dataframe thead th {\n        text-align: right;\n    }\n</style>\n<table border=\"1\" class=\"dataframe\">\n  <thead>\n    <tr style=\"text-align: right;\">\n      <th></th>\n      <th>ItraxxMain</th>\n      <th>ItraxxXover</th>\n      <th>CDX_IG</th>\n      <th>SPX_Price</th>\n      <th>SPX_Volume</th>\n      <th>EuSt_Price</th>\n      <th>EuSt_Volume</th>\n      <th>Oil (WTI-Oklahoma)</th>\n      <th>Oil (Brent-EU)</th>\n      <th>Conventional Gasoline (NY Harbor)</th>\n      <th>Conventional Gasoline (US Gulf Coast)</th>\n      <th>RBOB Regular Gasoline (LA)</th>\n      <th>No. 2 Heating Oil (NY Harbor)</th>\n      <th>Ultra-Low-Sulfur No. 2 Diesel Fuel (NY Harbor)</th>\n      <th>Ultra-Low-Sulfur No. 2 Diesel Fuel (US Gulf Coast)</th>\n      <th>Ultra-Low-Sulfur No. 2 Diesel Fuel (LA)</th>\n      <th>Kerosene-Type Jet Fuel (US Gulf Coast)</th>\n      <th>Propane (Mont Belvieu, TX)</th>\n    </tr>\n  </thead>\n  <tbody>\n    <tr>\n      <th>2007-03-20</th>\n      <td>100.0000</td>\n      <td>100.0000</td>\n      <td>100.0000</td>\n      <td>1410.94</td>\n      <td>1.182479e+09</td>\n      <td>4079.5200</td>\n      <td>9.134466e+08</td>\n      <td>56.41</td>\n      <td>60.11</td>\n      <td>1.914</td>\n      <td>1.842</td>\n      <td>2.372</td>\n      <td>1.678</td>\n      <td>1.828</td>\n      <td>1.848</td>\n      <td>1.993</td>\n      <td>1.793</td>\n      <td>1.023</td>\n    </tr>\n    <tr>\n      <th>2007-03-21</th>\n      <td>100.0287</td>\n      <td>100.2951</td>\n      <td>100.0850</td>\n      <td>1435.04</td>\n      <td>1.399847e+09</td>\n      <td>4078.2900</td>\n      <td>8.624504e+08</td>\n      <td>56.98</td>\n      <td>60.18</td>\n      <td>1.910</td>\n      <td>1.837</td>\n      <td>2.375</td>\n      <td>1.673</td>\n      <td>1.823</td>\n      <td>1.843</td>\n      <td>2.001</td>\n      <td>1.788</td>\n      <td>1.035</td>\n    </tr>\n    <tr>\n      <th>2007-03-22</th>\n      <td>100.0833</td>\n      <td>100.8037</td>\n      <td>100.1147</td>\n      <td>1434.54</td>\n      <td>1.286669e+09</td>\n      <td>4170.0801</td>\n      <td>1.174437e+09</td>\n      <td>60.21</td>\n      <td>61.57</td>\n      <td>1.914</td>\n      <td>1.847</td>\n      <td>2.304</td>\n      <td>1.719</td>\n      <td>1.891</td>\n      <td>1.976</td>\n      <td>2.026</td>\n      <td>1.829</td>\n      <td>1.036</td>\n    </tr>\n    <tr>\n      <th>2007-03-23</th>\n      <td>100.1090</td>\n      <td>100.8924</td>\n      <td>100.1108</td>\n      <td>1436.11</td>\n      <td>1.122459e+09</td>\n      <td>4191.5801</td>\n      <td>9.219071e+08</td>\n      <td>61.07</td>\n      <td>63.10</td>\n      <td>1.930</td>\n      <td>1.875</td>\n      <td>2.258</td>\n      <td>1.711</td>\n      <td>1.874</td>\n      <td>1.944</td>\n      <td>2.009</td>\n      <td>1.834</td>\n      <td>1.039</td>\n    </tr>\n    <tr>\n      <th>2007-03-26</th>\n      <td>100.1063</td>\n      <td>100.7493</td>\n      <td>100.0683</td>\n      <td>1437.50</td>\n      <td>1.187999e+09</td>\n      <td>4142.1099</td>\n      <td>9.893587e+08</td>\n      <td>61.77</td>\n      <td>64.43</td>\n      <td>2.000</td>\n      <td>1.923</td>\n      <td>2.531</td>\n      <td>1.771</td>\n      <td>1.953</td>\n      <td>2.123</td>\n      <td>2.083</td>\n      <td>1.904</td>\n      <td>1.059</td>\n    </tr>\n    <tr>\n      <th>...</th>\n      <td>...</td>\n      <td>...</td>\n      <td>...</td>\n      <td>...</td>\n      <td>...</td>\n      <td>...</td>\n      <td>...</td>\n      <td>...</td>\n      <td>...</td>\n      <td>...</td>\n      <td>...</td>\n      <td>...</td>\n      <td>...</td>\n      <td>...</td>\n      <td>...</td>\n      <td>...</td>\n      <td>...</td>\n      <td>...</td>\n    </tr>\n    <tr>\n      <th>2021-12-21</th>\n      <td>116.2111</td>\n      <td>218.0884</td>\n      <td>112.2719</td>\n      <td>4649.23</td>\n      <td>6.201414e+08</td>\n      <td>4174.9902</td>\n      <td>2.725863e+08</td>\n      <td>71.10</td>\n      <td>72.85</td>\n      <td>2.207</td>\n      <td>2.137</td>\n      <td>2.282</td>\n      <td>2.144</td>\n      <td>2.263</td>\n      <td>2.209</td>\n      <td>2.299</td>\n      <td>2.094</td>\n      <td>1.003</td>\n    </tr>\n    <tr>\n      <th>2021-12-22</th>\n      <td>116.2445</td>\n      <td>218.5824</td>\n      <td>112.3261</td>\n      <td>4696.56</td>\n      <td>4.564783e+08</td>\n      <td>4217.0601</td>\n      <td>1.945563e+08</td>\n      <td>72.82</td>\n      <td>74.69</td>\n      <td>2.222</td>\n      <td>2.154</td>\n      <td>2.287</td>\n      <td>2.192</td>\n      <td>2.311</td>\n      <td>2.257</td>\n      <td>2.347</td>\n      <td>2.142</td>\n      <td>1.025</td>\n    </tr>\n    <tr>\n      <th>2021-12-23</th>\n      <td>116.3149</td>\n      <td>219.2426</td>\n      <td>112.3691</td>\n      <td>4725.79</td>\n      <td>4.332652e+08</td>\n      <td>4265.8599</td>\n      <td>2.421080e+08</td>\n      <td>73.89</td>\n      <td>76.26</td>\n      <td>2.257</td>\n      <td>2.197</td>\n      <td>2.372</td>\n      <td>2.212</td>\n      <td>2.331</td>\n      <td>2.290</td>\n      <td>2.392</td>\n      <td>2.172</td>\n      <td>1.055</td>\n    </tr>\n    <tr>\n      <th>2021-12-29</th>\n      <td>116.3138</td>\n      <td>219.0620</td>\n      <td>112.4060</td>\n      <td>4793.06</td>\n      <td>3.660017e+08</td>\n      <td>4284.8301</td>\n      <td>1.666996e+08</td>\n      <td>76.58</td>\n      <td>78.63</td>\n      <td>2.317</td>\n      <td>2.260</td>\n      <td>2.492</td>\n      <td>2.259</td>\n      <td>2.376</td>\n      <td>2.319</td>\n      <td>2.477</td>\n      <td>2.209</td>\n      <td>1.118</td>\n    </tr>\n    <tr>\n      <th>2021-12-30</th>\n      <td>116.3518</td>\n      <td>219.3878</td>\n      <td>112.3916</td>\n      <td>4778.73</td>\n      <td>3.315328e+08</td>\n      <td>4306.0698</td>\n      <td>1.870611e+08</td>\n      <td>76.83</td>\n      <td>78.61</td>\n      <td>2.322</td>\n      <td>2.264</td>\n      <td>2.487</td>\n      <td>2.263</td>\n      <td>2.379</td>\n      <td>2.323</td>\n      <td>2.480</td>\n      <td>2.213</td>\n      <td>1.123</td>\n    </tr>\n  </tbody>\n</table>\n<p>3598 rows × 18 columns</p>\n</div>"
     },
     "execution_count": 6,
     "metadata": {},
     "output_type": "execute_result"
    }
   ],
   "source": [
    "big_df"
   ],
   "metadata": {
    "collapsed": false
   }
  },
  {
   "cell_type": "code",
   "execution_count": 7,
   "outputs": [],
   "source": [
    "big_df.to_csv('02_result.csv')"
   ],
   "metadata": {
    "collapsed": false
   }
  },
  {
   "cell_type": "code",
   "execution_count": 7,
   "outputs": [],
   "source": [],
   "metadata": {
    "collapsed": false
   }
  }
 ],
 "metadata": {
  "kernelspec": {
   "display_name": "Python 3",
   "language": "python",
   "name": "python3"
  },
  "language_info": {
   "codemirror_mode": {
    "name": "ipython",
    "version": 2
   },
   "file_extension": ".py",
   "mimetype": "text/x-python",
   "name": "python",
   "nbconvert_exporter": "python",
   "pygments_lexer": "ipython2",
   "version": "2.7.6"
  }
 },
 "nbformat": 4,
 "nbformat_minor": 0
}
